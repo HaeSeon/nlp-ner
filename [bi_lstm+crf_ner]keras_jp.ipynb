{
  "nbformat": 4,
  "nbformat_minor": 0,
  "metadata": {
    "colab": {
      "name": "[bi_lstm+crf_ner]keras_jp.ipynb",
      "provenance": [],
      "collapsed_sections": [],
      "authorship_tag": "ABX9TyOaIrO+ny2vQQEFr+nxNplc",
      "include_colab_link": true
    },
    "kernelspec": {
      "name": "python3",
      "display_name": "Python 3"
    },
    "language_info": {
      "name": "python"
    }
  },
  "cells": [
    {
      "cell_type": "markdown",
      "metadata": {
        "id": "view-in-github",
        "colab_type": "text"
      },
      "source": [
        "<a href=\"https://colab.research.google.com/github/HaeSeon/nlp-ner/blob/main/%5Bbi_lstm%2Bcrf_ner%5Dkeras_jp.ipynb\" target=\"_parent\"><img src=\"https://colab.research.google.com/assets/colab-badge.svg\" alt=\"Open In Colab\"/></a>"
      ]
    },
    {
      "cell_type": "markdown",
      "metadata": {
        "id": "vc4MQNPSNJAt"
      },
      "source": [
        "# 환경 setting"
      ]
    },
    {
      "cell_type": "code",
      "metadata": {
        "colab": {
          "base_uri": "https://localhost:8080/"
        },
        "id": "fPKu3CnAMhyw",
        "outputId": "6cfcbdc0-3839-43c5-966d-9682cb1d7369"
      },
      "source": [
        "!pip install tensorflow==1.14.0\n",
        "!pip install keras==2.2.4\n",
        "!pip install tensorflow-gpu==1.14.0\n",
        "# crf 사용을 위해 keras_contrib을 설치\n",
        "!pip install git+https://www.github.com/keras-team/keras-contrib.git"
      ],
      "execution_count": 1,
      "outputs": [
        {
          "output_type": "stream",
          "text": [
            "Collecting tensorflow==1.14.0\n",
            "\u001b[?25l  Downloading https://files.pythonhosted.org/packages/f4/28/96efba1a516cdacc2e2d6d081f699c001d414cc8ca3250e6d59ae657eb2b/tensorflow-1.14.0-cp37-cp37m-manylinux1_x86_64.whl (109.3MB)\n",
            "\u001b[K     |████████████████████████████████| 109.3MB 37kB/s \n",
            "\u001b[?25hRequirement already satisfied: six>=1.10.0 in /usr/local/lib/python3.7/dist-packages (from tensorflow==1.14.0) (1.15.0)\n",
            "Requirement already satisfied: grpcio>=1.8.6 in /usr/local/lib/python3.7/dist-packages (from tensorflow==1.14.0) (1.32.0)\n",
            "Requirement already satisfied: keras-preprocessing>=1.0.5 in /usr/local/lib/python3.7/dist-packages (from tensorflow==1.14.0) (1.1.2)\n",
            "Requirement already satisfied: wheel>=0.26 in /usr/local/lib/python3.7/dist-packages (from tensorflow==1.14.0) (0.36.2)\n",
            "Requirement already satisfied: termcolor>=1.1.0 in /usr/local/lib/python3.7/dist-packages (from tensorflow==1.14.0) (1.1.0)\n",
            "Requirement already satisfied: google-pasta>=0.1.6 in /usr/local/lib/python3.7/dist-packages (from tensorflow==1.14.0) (0.2.0)\n",
            "Requirement already satisfied: absl-py>=0.7.0 in /usr/local/lib/python3.7/dist-packages (from tensorflow==1.14.0) (0.12.0)\n",
            "Requirement already satisfied: astor>=0.6.0 in /usr/local/lib/python3.7/dist-packages (from tensorflow==1.14.0) (0.8.1)\n",
            "Requirement already satisfied: wrapt>=1.11.1 in /usr/local/lib/python3.7/dist-packages (from tensorflow==1.14.0) (1.12.1)\n",
            "Collecting tensorboard<1.15.0,>=1.14.0\n",
            "\u001b[?25l  Downloading https://files.pythonhosted.org/packages/91/2d/2ed263449a078cd9c8a9ba50ebd50123adf1f8cfbea1492f9084169b89d9/tensorboard-1.14.0-py3-none-any.whl (3.1MB)\n",
            "\u001b[K     |████████████████████████████████| 3.2MB 50.2MB/s \n",
            "\u001b[?25hRequirement already satisfied: numpy<2.0,>=1.14.5 in /usr/local/lib/python3.7/dist-packages (from tensorflow==1.14.0) (1.19.5)\n",
            "Requirement already satisfied: protobuf>=3.6.1 in /usr/local/lib/python3.7/dist-packages (from tensorflow==1.14.0) (3.12.4)\n",
            "Collecting keras-applications>=1.0.6\n",
            "\u001b[?25l  Downloading https://files.pythonhosted.org/packages/71/e3/19762fdfc62877ae9102edf6342d71b28fbfd9dea3d2f96a882ce099b03f/Keras_Applications-1.0.8-py3-none-any.whl (50kB)\n",
            "\u001b[K     |████████████████████████████████| 51kB 5.0MB/s \n",
            "\u001b[?25hCollecting tensorflow-estimator<1.15.0rc0,>=1.14.0rc0\n",
            "\u001b[?25l  Downloading https://files.pythonhosted.org/packages/3c/d5/21860a5b11caf0678fbc8319341b0ae21a07156911132e0e71bffed0510d/tensorflow_estimator-1.14.0-py2.py3-none-any.whl (488kB)\n",
            "\u001b[K     |████████████████████████████████| 491kB 40.7MB/s \n",
            "\u001b[?25hRequirement already satisfied: gast>=0.2.0 in /usr/local/lib/python3.7/dist-packages (from tensorflow==1.14.0) (0.3.3)\n",
            "Requirement already satisfied: markdown>=2.6.8 in /usr/local/lib/python3.7/dist-packages (from tensorboard<1.15.0,>=1.14.0->tensorflow==1.14.0) (3.3.4)\n",
            "Requirement already satisfied: werkzeug>=0.11.15 in /usr/local/lib/python3.7/dist-packages (from tensorboard<1.15.0,>=1.14.0->tensorflow==1.14.0) (1.0.1)\n",
            "Requirement already satisfied: setuptools>=41.0.0 in /usr/local/lib/python3.7/dist-packages (from tensorboard<1.15.0,>=1.14.0->tensorflow==1.14.0) (56.0.0)\n",
            "Requirement already satisfied: h5py in /usr/local/lib/python3.7/dist-packages (from keras-applications>=1.0.6->tensorflow==1.14.0) (2.10.0)\n",
            "Requirement already satisfied: importlib-metadata; python_version < \"3.8\" in /usr/local/lib/python3.7/dist-packages (from markdown>=2.6.8->tensorboard<1.15.0,>=1.14.0->tensorflow==1.14.0) (3.10.1)\n",
            "Requirement already satisfied: typing-extensions>=3.6.4; python_version < \"3.8\" in /usr/local/lib/python3.7/dist-packages (from importlib-metadata; python_version < \"3.8\"->markdown>=2.6.8->tensorboard<1.15.0,>=1.14.0->tensorflow==1.14.0) (3.7.4.3)\n",
            "Requirement already satisfied: zipp>=0.5 in /usr/local/lib/python3.7/dist-packages (from importlib-metadata; python_version < \"3.8\"->markdown>=2.6.8->tensorboard<1.15.0,>=1.14.0->tensorflow==1.14.0) (3.4.1)\n",
            "Installing collected packages: tensorboard, keras-applications, tensorflow-estimator, tensorflow\n",
            "  Found existing installation: tensorboard 2.4.1\n",
            "    Uninstalling tensorboard-2.4.1:\n",
            "      Successfully uninstalled tensorboard-2.4.1\n",
            "  Found existing installation: tensorflow-estimator 2.4.0\n",
            "    Uninstalling tensorflow-estimator-2.4.0:\n",
            "      Successfully uninstalled tensorflow-estimator-2.4.0\n",
            "  Found existing installation: tensorflow 2.4.1\n",
            "    Uninstalling tensorflow-2.4.1:\n",
            "      Successfully uninstalled tensorflow-2.4.1\n",
            "Successfully installed keras-applications-1.0.8 tensorboard-1.14.0 tensorflow-1.14.0 tensorflow-estimator-1.14.0\n",
            "Collecting keras==2.2.4\n",
            "\u001b[?25l  Downloading https://files.pythonhosted.org/packages/5e/10/aa32dad071ce52b5502266b5c659451cfd6ffcbf14e6c8c4f16c0ff5aaab/Keras-2.2.4-py2.py3-none-any.whl (312kB)\n",
            "\u001b[K     |████████████████████████████████| 317kB 5.1MB/s \n",
            "\u001b[?25hRequirement already satisfied: numpy>=1.9.1 in /usr/local/lib/python3.7/dist-packages (from keras==2.2.4) (1.19.5)\n",
            "Requirement already satisfied: scipy>=0.14 in /usr/local/lib/python3.7/dist-packages (from keras==2.2.4) (1.4.1)\n",
            "Requirement already satisfied: h5py in /usr/local/lib/python3.7/dist-packages (from keras==2.2.4) (2.10.0)\n",
            "Requirement already satisfied: keras-preprocessing>=1.0.5 in /usr/local/lib/python3.7/dist-packages (from keras==2.2.4) (1.1.2)\n",
            "Requirement already satisfied: keras-applications>=1.0.6 in /usr/local/lib/python3.7/dist-packages (from keras==2.2.4) (1.0.8)\n",
            "Requirement already satisfied: pyyaml in /usr/local/lib/python3.7/dist-packages (from keras==2.2.4) (3.13)\n",
            "Requirement already satisfied: six>=1.9.0 in /usr/local/lib/python3.7/dist-packages (from keras==2.2.4) (1.15.0)\n",
            "Installing collected packages: keras\n",
            "  Found existing installation: Keras 2.4.3\n",
            "    Uninstalling Keras-2.4.3:\n",
            "      Successfully uninstalled Keras-2.4.3\n",
            "Successfully installed keras-2.2.4\n",
            "Collecting tensorflow-gpu==1.14.0\n",
            "\u001b[?25l  Downloading https://files.pythonhosted.org/packages/32/67/559ca8408431c37ad3a17e859c8c291ea82f092354074baef482b98ffb7b/tensorflow_gpu-1.14.0-cp37-cp37m-manylinux1_x86_64.whl (377.1MB)\n",
            "\u001b[K     |████████████████████████████████| 377.1MB 42kB/s \n",
            "\u001b[?25hRequirement already satisfied: absl-py>=0.7.0 in /usr/local/lib/python3.7/dist-packages (from tensorflow-gpu==1.14.0) (0.12.0)\n",
            "Requirement already satisfied: protobuf>=3.6.1 in /usr/local/lib/python3.7/dist-packages (from tensorflow-gpu==1.14.0) (3.12.4)\n",
            "Requirement already satisfied: tensorflow-estimator<1.15.0rc0,>=1.14.0rc0 in /usr/local/lib/python3.7/dist-packages (from tensorflow-gpu==1.14.0) (1.14.0)\n",
            "Requirement already satisfied: keras-applications>=1.0.6 in /usr/local/lib/python3.7/dist-packages (from tensorflow-gpu==1.14.0) (1.0.8)\n",
            "Requirement already satisfied: wheel>=0.26 in /usr/local/lib/python3.7/dist-packages (from tensorflow-gpu==1.14.0) (0.36.2)\n",
            "Requirement already satisfied: wrapt>=1.11.1 in /usr/local/lib/python3.7/dist-packages (from tensorflow-gpu==1.14.0) (1.12.1)\n",
            "Requirement already satisfied: keras-preprocessing>=1.0.5 in /usr/local/lib/python3.7/dist-packages (from tensorflow-gpu==1.14.0) (1.1.2)\n",
            "Requirement already satisfied: google-pasta>=0.1.6 in /usr/local/lib/python3.7/dist-packages (from tensorflow-gpu==1.14.0) (0.2.0)\n",
            "Requirement already satisfied: six>=1.10.0 in /usr/local/lib/python3.7/dist-packages (from tensorflow-gpu==1.14.0) (1.15.0)\n",
            "Requirement already satisfied: numpy<2.0,>=1.14.5 in /usr/local/lib/python3.7/dist-packages (from tensorflow-gpu==1.14.0) (1.19.5)\n",
            "Requirement already satisfied: grpcio>=1.8.6 in /usr/local/lib/python3.7/dist-packages (from tensorflow-gpu==1.14.0) (1.32.0)\n",
            "Requirement already satisfied: termcolor>=1.1.0 in /usr/local/lib/python3.7/dist-packages (from tensorflow-gpu==1.14.0) (1.1.0)\n",
            "Requirement already satisfied: gast>=0.2.0 in /usr/local/lib/python3.7/dist-packages (from tensorflow-gpu==1.14.0) (0.3.3)\n",
            "Requirement already satisfied: astor>=0.6.0 in /usr/local/lib/python3.7/dist-packages (from tensorflow-gpu==1.14.0) (0.8.1)\n",
            "Requirement already satisfied: tensorboard<1.15.0,>=1.14.0 in /usr/local/lib/python3.7/dist-packages (from tensorflow-gpu==1.14.0) (1.14.0)\n",
            "Requirement already satisfied: setuptools in /usr/local/lib/python3.7/dist-packages (from protobuf>=3.6.1->tensorflow-gpu==1.14.0) (56.0.0)\n",
            "Requirement already satisfied: h5py in /usr/local/lib/python3.7/dist-packages (from keras-applications>=1.0.6->tensorflow-gpu==1.14.0) (2.10.0)\n",
            "Requirement already satisfied: werkzeug>=0.11.15 in /usr/local/lib/python3.7/dist-packages (from tensorboard<1.15.0,>=1.14.0->tensorflow-gpu==1.14.0) (1.0.1)\n",
            "Requirement already satisfied: markdown>=2.6.8 in /usr/local/lib/python3.7/dist-packages (from tensorboard<1.15.0,>=1.14.0->tensorflow-gpu==1.14.0) (3.3.4)\n",
            "Requirement already satisfied: importlib-metadata; python_version < \"3.8\" in /usr/local/lib/python3.7/dist-packages (from markdown>=2.6.8->tensorboard<1.15.0,>=1.14.0->tensorflow-gpu==1.14.0) (3.10.1)\n",
            "Requirement already satisfied: zipp>=0.5 in /usr/local/lib/python3.7/dist-packages (from importlib-metadata; python_version < \"3.8\"->markdown>=2.6.8->tensorboard<1.15.0,>=1.14.0->tensorflow-gpu==1.14.0) (3.4.1)\n",
            "Requirement already satisfied: typing-extensions>=3.6.4; python_version < \"3.8\" in /usr/local/lib/python3.7/dist-packages (from importlib-metadata; python_version < \"3.8\"->markdown>=2.6.8->tensorboard<1.15.0,>=1.14.0->tensorflow-gpu==1.14.0) (3.7.4.3)\n",
            "Installing collected packages: tensorflow-gpu\n",
            "Successfully installed tensorflow-gpu-1.14.0\n",
            "Collecting git+https://www.github.com/keras-team/keras-contrib.git\n",
            "  Cloning https://www.github.com/keras-team/keras-contrib.git to /tmp/pip-req-build-1eh4px2a\n",
            "  Running command git clone -q https://www.github.com/keras-team/keras-contrib.git /tmp/pip-req-build-1eh4px2a\n",
            "Requirement already satisfied: keras in /usr/local/lib/python3.7/dist-packages (from keras-contrib==2.0.8) (2.2.4)\n",
            "Requirement already satisfied: numpy>=1.9.1 in /usr/local/lib/python3.7/dist-packages (from keras->keras-contrib==2.0.8) (1.19.5)\n",
            "Requirement already satisfied: keras-applications>=1.0.6 in /usr/local/lib/python3.7/dist-packages (from keras->keras-contrib==2.0.8) (1.0.8)\n",
            "Requirement already satisfied: six>=1.9.0 in /usr/local/lib/python3.7/dist-packages (from keras->keras-contrib==2.0.8) (1.15.0)\n",
            "Requirement already satisfied: pyyaml in /usr/local/lib/python3.7/dist-packages (from keras->keras-contrib==2.0.8) (3.13)\n",
            "Requirement already satisfied: h5py in /usr/local/lib/python3.7/dist-packages (from keras->keras-contrib==2.0.8) (2.10.0)\n",
            "Requirement already satisfied: scipy>=0.14 in /usr/local/lib/python3.7/dist-packages (from keras->keras-contrib==2.0.8) (1.4.1)\n",
            "Requirement already satisfied: keras-preprocessing>=1.0.5 in /usr/local/lib/python3.7/dist-packages (from keras->keras-contrib==2.0.8) (1.1.2)\n",
            "Building wheels for collected packages: keras-contrib\n",
            "  Building wheel for keras-contrib (setup.py) ... \u001b[?25l\u001b[?25hdone\n",
            "  Created wheel for keras-contrib: filename=keras_contrib-2.0.8-cp37-none-any.whl size=101065 sha256=b66d50130ca35b679495102eafb4cbc66665c3fa950f28487cca0a3247c73119\n",
            "  Stored in directory: /tmp/pip-ephem-wheel-cache-ixahocmw/wheels/11/27/c8/4ed56de7b55f4f61244e2dc6ef3cdbaff2692527a2ce6502ba\n",
            "Successfully built keras-contrib\n",
            "Installing collected packages: keras-contrib\n",
            "Successfully installed keras-contrib-2.0.8\n"
          ],
          "name": "stdout"
        }
      ]
    },
    {
      "cell_type": "markdown",
      "metadata": {
        "id": "bRG6v1CSOWuB"
      },
      "source": [
        "# 데이터 전처리"
      ]
    },
    {
      "cell_type": "code",
      "metadata": {
        "colab": {
          "base_uri": "https://localhost:8080/"
        },
        "id": "YfnGdUIeOSSP",
        "outputId": "05fa4347-b087-4522-8f36-8fd33247d8d1"
      },
      "source": [
        "import pandas as pd\n",
        "import numpy as np\n",
        "%matplotlib inline\n",
        "import matplotlib.pyplot as plt\n",
        "from tensorflow.keras.preprocessing.text import Tokenizer\n",
        "from tensorflow.keras.preprocessing.sequence import pad_sequences\n",
        "from sklearn.model_selection import train_test_split\n",
        "from tensorflow.keras.utils import to_categorical"
      ],
      "execution_count": 2,
      "outputs": [
        {
          "output_type": "stream",
          "text": [
            "/usr/local/lib/python3.7/dist-packages/tensorflow/python/framework/dtypes.py:516: FutureWarning: Passing (type, 1) or '1type' as a synonym of type is deprecated; in a future version of numpy, it will be understood as (type, (1,)) / '(1,)type'.\n",
            "  _np_qint8 = np.dtype([(\"qint8\", np.int8, 1)])\n",
            "/usr/local/lib/python3.7/dist-packages/tensorflow/python/framework/dtypes.py:517: FutureWarning: Passing (type, 1) or '1type' as a synonym of type is deprecated; in a future version of numpy, it will be understood as (type, (1,)) / '(1,)type'.\n",
            "  _np_quint8 = np.dtype([(\"quint8\", np.uint8, 1)])\n",
            "/usr/local/lib/python3.7/dist-packages/tensorflow/python/framework/dtypes.py:518: FutureWarning: Passing (type, 1) or '1type' as a synonym of type is deprecated; in a future version of numpy, it will be understood as (type, (1,)) / '(1,)type'.\n",
            "  _np_qint16 = np.dtype([(\"qint16\", np.int16, 1)])\n",
            "/usr/local/lib/python3.7/dist-packages/tensorflow/python/framework/dtypes.py:519: FutureWarning: Passing (type, 1) or '1type' as a synonym of type is deprecated; in a future version of numpy, it will be understood as (type, (1,)) / '(1,)type'.\n",
            "  _np_quint16 = np.dtype([(\"quint16\", np.uint16, 1)])\n",
            "/usr/local/lib/python3.7/dist-packages/tensorflow/python/framework/dtypes.py:520: FutureWarning: Passing (type, 1) or '1type' as a synonym of type is deprecated; in a future version of numpy, it will be understood as (type, (1,)) / '(1,)type'.\n",
            "  _np_qint32 = np.dtype([(\"qint32\", np.int32, 1)])\n",
            "/usr/local/lib/python3.7/dist-packages/tensorflow/python/framework/dtypes.py:525: FutureWarning: Passing (type, 1) or '1type' as a synonym of type is deprecated; in a future version of numpy, it will be understood as (type, (1,)) / '(1,)type'.\n",
            "  np_resource = np.dtype([(\"resource\", np.ubyte, 1)])\n",
            "/usr/local/lib/python3.7/dist-packages/tensorboard/compat/tensorflow_stub/dtypes.py:541: FutureWarning: Passing (type, 1) or '1type' as a synonym of type is deprecated; in a future version of numpy, it will be understood as (type, (1,)) / '(1,)type'.\n",
            "  _np_qint8 = np.dtype([(\"qint8\", np.int8, 1)])\n",
            "/usr/local/lib/python3.7/dist-packages/tensorboard/compat/tensorflow_stub/dtypes.py:542: FutureWarning: Passing (type, 1) or '1type' as a synonym of type is deprecated; in a future version of numpy, it will be understood as (type, (1,)) / '(1,)type'.\n",
            "  _np_quint8 = np.dtype([(\"quint8\", np.uint8, 1)])\n",
            "/usr/local/lib/python3.7/dist-packages/tensorboard/compat/tensorflow_stub/dtypes.py:543: FutureWarning: Passing (type, 1) or '1type' as a synonym of type is deprecated; in a future version of numpy, it will be understood as (type, (1,)) / '(1,)type'.\n",
            "  _np_qint16 = np.dtype([(\"qint16\", np.int16, 1)])\n",
            "/usr/local/lib/python3.7/dist-packages/tensorboard/compat/tensorflow_stub/dtypes.py:544: FutureWarning: Passing (type, 1) or '1type' as a synonym of type is deprecated; in a future version of numpy, it will be understood as (type, (1,)) / '(1,)type'.\n",
            "  _np_quint16 = np.dtype([(\"quint16\", np.uint16, 1)])\n",
            "/usr/local/lib/python3.7/dist-packages/tensorboard/compat/tensorflow_stub/dtypes.py:545: FutureWarning: Passing (type, 1) or '1type' as a synonym of type is deprecated; in a future version of numpy, it will be understood as (type, (1,)) / '(1,)type'.\n",
            "  _np_qint32 = np.dtype([(\"qint32\", np.int32, 1)])\n",
            "/usr/local/lib/python3.7/dist-packages/tensorboard/compat/tensorflow_stub/dtypes.py:550: FutureWarning: Passing (type, 1) or '1type' as a synonym of type is deprecated; in a future version of numpy, it will be understood as (type, (1,)) / '(1,)type'.\n",
            "  np_resource = np.dtype([(\"resource\", np.ubyte, 1)])\n"
          ],
          "name": "stderr"
        }
      ]
    },
    {
      "cell_type": "code",
      "metadata": {
        "colab": {
          "base_uri": "https://localhost:8080/"
        },
        "id": "GAXoaWovObN4",
        "outputId": "9b8fa183-374e-49a0-cfab-deae6df601b5"
      },
      "source": [
        "train_set = 'train_set.txt'\n",
        "test_set = 'test_set.txt'\n",
        "f = open(train_set)\n",
        "f.readlines()[:10]"
      ],
      "execution_count": 3,
      "outputs": [
        {
          "output_type": "execute_result",
          "data": {
            "text/plain": [
              "['1960\\tB-DATE\\n',\n",
              " '年代\\tI-DATE\\n',\n",
              " 'と\\tO\\n',\n",
              " '1970\\tB-DATE\\n',\n",
              " '年代\\tI-DATE\\n',\n",
              " 'の\\tO\\n',\n",
              " '間\\tO\\n',\n",
              " 'に\\tO\\n',\n",
              " '、\\tO\\n',\n",
              " 'ジョエル\\tB-PERSON\\n']"
            ]
          },
          "metadata": {
            "tags": []
          },
          "execution_count": 3
        }
      ]
    },
    {
      "cell_type": "code",
      "metadata": {
        "id": "eis3I-vROzBk"
      },
      "source": [
        "def process_data(file_name):\n",
        "  sentence=[]\n",
        "  taged_sentences=[]\n",
        "  with open (file_name,'r') as f:\n",
        "    for line in f.readlines():\n",
        "      if \"。\" in line and len(sentence)>0:\n",
        "        taged_sentences.append(sentence)\n",
        "        sentence=[]\n",
        "      else:\n",
        "        if(len(line.split('\\t'))>1):\n",
        "          word=line.split('\\t')[0]\n",
        "          tag=line.split('\\t')[1]\n",
        "          sentence.append((word, tag))\n",
        "\n",
        "  return taged_sentences"
      ],
      "execution_count": 11,
      "outputs": []
    },
    {
      "cell_type": "code",
      "metadata": {
        "id": "eJRIrwmIPAq8"
      },
      "source": [
        "train_sents=process_data(train_set)\n",
        "test_sents=process_data(test_set)"
      ],
      "execution_count": 12,
      "outputs": []
    },
    {
      "cell_type": "code",
      "metadata": {
        "colab": {
          "base_uri": "https://localhost:8080/"
        },
        "id": "4qU1cV2BPHqv",
        "outputId": "7dd2a5cf-51a1-4cd0-a119-937cf37cc3c2"
      },
      "source": [
        "train_sents[0]"
      ],
      "execution_count": 13,
      "outputs": [
        {
          "output_type": "execute_result",
          "data": {
            "text/plain": [
              "[('1960', 'B-DATE\\n'),\n",
              " ('年代', 'I-DATE\\n'),\n",
              " ('と', 'O\\n'),\n",
              " ('1970', 'B-DATE\\n'),\n",
              " ('年代', 'I-DATE\\n'),\n",
              " ('の', 'O\\n'),\n",
              " ('間', 'O\\n'),\n",
              " ('に', 'O\\n'),\n",
              " ('、', 'O\\n'),\n",
              " ('ジョエル', 'B-PERSON\\n'),\n",
              " ('・', 'I-PERSON\\n'),\n",
              " ('モーゼス', 'I-PERSON\\n'),\n",
              " ('は', 'O\\n'),\n",
              " (' ', 'O\\n'),\n",
              " ('プログラム', 'O\\n'),\n",
              " ('中', 'O\\n'),\n",
              " ('で', 'O\\n'),\n",
              " ('積分', 'O\\n'),\n",
              " ('問題', 'O\\n'),\n",
              " ('で', 'O\\n'),\n",
              " ('の', 'O\\n'),\n",
              " ('記号', 'O\\n'),\n",
              " ('的', 'O\\n'),\n",
              " ('推論', 'O\\n'),\n",
              " ('の', 'O\\n'),\n",
              " ('パワー', 'O\\n'),\n",
              " ('を', 'O\\n'),\n",
              " ('示し', 'O\\n'),\n",
              " ('た', 'O\\n')]"
            ]
          },
          "metadata": {
            "tags": []
          },
          "execution_count": 13
        }
      ]
    },
    {
      "cell_type": "code",
      "metadata": {
        "id": "G5kAu0jOPMXq"
      },
      "source": [
        "# sentence, ner_tag 분리\n",
        "def separate_sentence_tag(tagged_sentences):\n",
        "  sentences, ner_tags = [], [] \n",
        "  for tagged_sentence in tagged_sentences: # 47,959개의 문장 샘플을 1개씩 불러온다.\n",
        "    sentence, tag_info = zip(*tagged_sentence) # 각 샘플에서 단어들은 sentence에 개체명 태깅 정보들은 tag_info에 저장.\n",
        "    sentences.append(list(sentence)) # 각 샘플에서 단어 정보만 저장한다.\n",
        "    ner_tags.append(list(tag_info)) # 각 샘플에서 개체명 태깅 정보만 저장한다.\n",
        "  return sentences, ner_tags"
      ],
      "execution_count": 14,
      "outputs": []
    },
    {
      "cell_type": "code",
      "metadata": {
        "id": "Vy_CWg9vQE-a"
      },
      "source": [
        "train_sentences, train_tags = separate_sentence_tag(train_sents)\n",
        "test_sentences,test_tags = separate_sentence_tag(test_sents)"
      ],
      "execution_count": 15,
      "outputs": []
    },
    {
      "cell_type": "code",
      "metadata": {
        "colab": {
          "base_uri": "https://localhost:8080/"
        },
        "id": "WotDpiwjQiFs",
        "outputId": "c60086cf-185c-4224-dcd2-dae6ff083d6b"
      },
      "source": [
        "print(train_sentences[0]) #예측을 위한 X\n",
        "print(train_tags[0])  #예측 대상인 Y"
      ],
      "execution_count": 16,
      "outputs": [
        {
          "output_type": "stream",
          "text": [
            "['1960', '年代', 'と', '1970', '年代', 'の', '間', 'に', '、', 'ジョエル', '・', 'モーゼス', 'は', ' ', 'プログラム', '中', 'で', '積分', '問題', 'で', 'の', '記号', '的', '推論', 'の', 'パワー', 'を', '示し', 'た']\n",
            "['B-DATE\\n', 'I-DATE\\n', 'O\\n', 'B-DATE\\n', 'I-DATE\\n', 'O\\n', 'O\\n', 'O\\n', 'O\\n', 'B-PERSON\\n', 'I-PERSON\\n', 'I-PERSON\\n', 'O\\n', 'O\\n', 'O\\n', 'O\\n', 'O\\n', 'O\\n', 'O\\n', 'O\\n', 'O\\n', 'O\\n', 'O\\n', 'O\\n', 'O\\n', 'O\\n', 'O\\n', 'O\\n', 'O\\n']\n"
          ],
          "name": "stdout"
        }
      ]
    },
    {
      "cell_type": "markdown",
      "metadata": {
        "id": "ExdgIJLmQ8aS"
      },
      "source": [
        "**train data**"
      ]
    },
    {
      "cell_type": "code",
      "metadata": {
        "colab": {
          "base_uri": "https://localhost:8080/",
          "height": 314
        },
        "id": "4cx3BOGTQqBY",
        "outputId": "b9218cc7-dbbf-464e-9053-ee34526f1048"
      },
      "source": [
        "print('샘플의 최대 길이 : %d' % max(len(l) for l in train_sentences))\n",
        "print('샘플의 평균 길이 : %f' % (sum(map(len, train_sentences))/len(train_sentences)))\n",
        "plt.hist([len(s) for s in train_sentences], bins=50)\n",
        "plt.xlabel('length of samples')\n",
        "plt.ylabel('number of samples')\n",
        "plt.show()"
      ],
      "execution_count": 17,
      "outputs": [
        {
          "output_type": "stream",
          "text": [
            "샘플의 최대 길이 : 191\n",
            "샘플의 평균 길이 : 34.853636\n"
          ],
          "name": "stdout"
        },
        {
          "output_type": "display_data",
          "data": {
            "image/png": "[encoded data removed]",
            "text/plain": [
              "<Figure size 432x288 with 1 Axes>"
            ]
          },
          "metadata": {
            "tags": [],
            "needs_background": "light"
          }
        }
      ]
    },
    {
      "cell_type": "markdown",
      "metadata": {
        "id": "lcbvZU0kROYz"
      },
      "source": [
        "**test data**"
      ]
    },
    {
      "cell_type": "code",
      "metadata": {
        "colab": {
          "base_uri": "https://localhost:8080/",
          "height": 314
        },
        "id": "ytEluWc-RHQW",
        "outputId": "709eebfa-5ace-4529-c546-ed34c295c0ee"
      },
      "source": [
        "print('샘플의 최대 길이 : %d' % max(len(l) for l in test_sentences))\n",
        "print('샘플의 평균 길이 : %f' % (sum(map(len, test_sentences))/len(test_sentences)))\n",
        "plt.hist([len(s) for s in test_sentences], bins=50)\n",
        "plt.xlabel('length of samples')\n",
        "plt.ylabel('number of samples')\n",
        "plt.show()"
      ],
      "execution_count": 18,
      "outputs": [
        {
          "output_type": "stream",
          "text": [
            "샘플의 최대 길이 : 190\n",
            "샘플의 평균 길이 : 34.840050\n"
          ],
          "name": "stdout"
        },
        {
          "output_type": "display_data",
          "data": {
            "image/png": "[encoded data removed]",
            "text/plain": [
              "<Figure size 432x288 with 1 Axes>"
            ]
          },
          "metadata": {
            "tags": [],
            "needs_background": "light"
          }
        }
      ]
    },
    {
      "cell_type": "markdown",
      "metadata": {
        "id": "6ZUviv41UZ4z"
      },
      "source": [
        "**케라스 토크나이저를 통해 정수인코딩**"
      ]
    },
    {
      "cell_type": "code",
      "metadata": {
        "id": "Pp5E7P3mTfr6"
      },
      "source": [
        "# 문장 데이터에 대해서는 src_tokenizer\n",
        "src_tokenizer = Tokenizer(oov_token='OOV') # 모든 단어를 사용하지만 인덱스 1에는 단어 'OOV'를 할당한다.\n",
        "src_tokenizer.fit_on_texts(train_sentences+test_sentences)\n",
        "# 개체명 태깅 정보에 대해서는 tar_tokenizer\n",
        "tar_tokenizer = Tokenizer(lower=False) # 태깅 정보들은 내부적으로 대문자를 유지한채로 저장\n",
        "tar_tokenizer.fit_on_texts(train_tags+test_tags)"
      ],
      "execution_count": 22,
      "outputs": []
    },
    {
      "cell_type": "code",
      "metadata": {
        "colab": {
          "base_uri": "https://localhost:8080/"
        },
        "id": "EKQT4_hPTpaN",
        "outputId": "ac8bf3a4-9aad-4711-adc6-50c5388f3457"
      },
      "source": [
        "vocab_size = len(src_tokenizer.word_index) + 1\n",
        "tag_size = len(tar_tokenizer.word_index) + 1\n",
        "print('단어 집합의 크기 : {}'.format(vocab_size))\n",
        "print('개체명 태깅 정보 집합의 크기 : {}'.format(tag_size))"
      ],
      "execution_count": 23,
      "outputs": [
        {
          "output_type": "stream",
          "text": [
            "단어 집합의 크기 : 15962\n",
            "개체명 태깅 정보 집합의 크기 : 24\n"
          ],
          "name": "stdout"
        }
      ]
    },
    {
      "cell_type": "code",
      "metadata": {
        "colab": {
          "base_uri": "https://localhost:8080/"
        },
        "id": "FDCCuSSpT4Yq",
        "outputId": "57e2099d-a92d-4ada-f1d7-c774d1c57e35"
      },
      "source": [
        "# 앞서 src_tokenizer를 만들때 Tokenizer의 인자로 oov_token='OOV'를 선택했으므로 인덱스 1에 'OOV' 할당\n",
        "print('단어 OOV의 인덱스 : {}'.format(src_tokenizer.word_index['OOV']))"
      ],
      "execution_count": 24,
      "outputs": [
        {
          "output_type": "stream",
          "text": [
            "단어 OOV의 인덱스 : 1\n"
          ],
          "name": "stdout"
        }
      ]
    },
    {
      "cell_type": "code",
      "metadata": {
        "colab": {
          "base_uri": "https://localhost:8080/"
        },
        "id": "GHVoWsjsT790",
        "outputId": "6100aeb0-b317-42a8-da3c-d8fce625364d"
      },
      "source": [
        "# 정수 인코딩\n",
        "X_train = src_tokenizer.texts_to_sequences(train_sentences)\n",
        "y_train = tar_tokenizer.texts_to_sequences(train_tags)\n",
        "X_test = src_tokenizer.texts_to_sequences(test_sentences)\n",
        "y_test = tar_tokenizer.texts_to_sequences(test_tags)\n",
        "print(X_train[0])  #문장 데이터의 정수 인코딩 결과\n",
        "print(y_train[0])  #개체명 태깅 데이터에 대해서 정수 인코딩의 결과"
      ],
      "execution_count": 26,
      "outputs": [
        {
          "output_type": "stream",
          "text": [
            "[864, 104, 11, 653, 104, 2, 128, 4, 3, 7949, 22, 7950, 5, 27, 722, 66, 9, 7951, 157, 9, 2, 3962, 29, 2603, 2, 1932, 6, 723, 8]\n",
            "[6, 3, 1, 6, 3, 1, 1, 1, 1, 9, 12, 12, 1, 1, 1, 1, 1, 1, 1, 1, 1, 1, 1, 1, 1, 1, 1, 1, 1]\n"
          ],
          "name": "stdout"
        }
      ]
    },
    {
      "cell_type": "code",
      "metadata": {
        "colab": {
          "base_uri": "https://localhost:8080/"
        },
        "id": "N0f5S5h4UV6V",
        "outputId": "97b75b78-bb11-4100-f645-ba0db912ff59"
      },
      "source": [
        "# 모델 훈련 후 결과 확인을 위해 인덱스로부터 단어를 리턴하는 배열 만들어두기\n",
        "word_to_index = src_tokenizer.word_index\n",
        "index_to_word = src_tokenizer.index_word\n",
        "ner_to_index = tar_tokenizer.word_index\n",
        "index_to_ner = tar_tokenizer.index_word\n",
        "index_to_ner[0] = 'PAD'\n",
        "print(index_to_ner)"
      ],
      "execution_count": 27,
      "outputs": [
        {
          "output_type": "stream",
          "text": [
            "{1: 'O\\n', 2: 'B-LOCATION\\n', 3: 'I-DATE\\n', 4: 'I-ORGANIZATION\\n', 5: 'B-ORGANIZATION\\n', 6: 'B-DATE\\n', 7: 'I-NUMBER\\n', 8: 'I-ARTIFACT\\n', 9: 'B-PERSON\\n', 10: 'I-LOCATION\\n', 11: 'B-NUMBER\\n', 12: 'I-PERSON\\n', 13: 'B-ARTIFACT\\n', 14: 'I-EVENT\\n', 15: 'I-OTHER\\n', 16: 'B-OTHER\\n', 17: 'I-PERCENT\\n', 18: 'B-EVENT\\n', 19: 'B-PERCENT\\n', 20: 'I-MONEY\\n', 21: 'B-MONEY\\n', 22: 'I-TIME\\n', 23: 'B-TIME\\n', 0: 'PAD'}\n"
          ],
          "name": "stdout"
        }
      ]
    },
    {
      "cell_type": "code",
      "metadata": {
        "id": "uRKyC9hqVA5h"
      },
      "source": [
        "max_len = 200\n",
        "# 모든 샘플들의 길이를 맞출 때 뒤의 공간에 숫자 0으로 채움.\n",
        "X_train = pad_sequences(X_train, padding='post', maxlen=max_len)\n",
        "y_train = pad_sequences(y_train, padding='post', maxlen=max_len)\n",
        "X_test = pad_sequences(X_test, padding='post', maxlen=max_len)\n",
        "y_test = pad_sequences(y_test, padding='post', maxlen=max_len)"
      ],
      "execution_count": 29,
      "outputs": []
    },
    {
      "cell_type": "code",
      "metadata": {
        "id": "PaOJEIqMV4I-"
      },
      "source": [
        "# 레이블에 대해 one hot 인코딩\n",
        "y_train = to_categorical(y_train, num_classes=tag_size)\n",
        "y_test = to_categorical(y_test, num_classes=tag_size)"
      ],
      "execution_count": 30,
      "outputs": []
    },
    {
      "cell_type": "code",
      "metadata": {
        "colab": {
          "base_uri": "https://localhost:8080/"
        },
        "id": "cVOBLiZVWDjL",
        "outputId": "030ff908-cc93-4454-ba90-3a7a6dfc2b81"
      },
      "source": [
        "print('훈련 샘플 문장의 크기 : {}'.format(X_train.shape))\n",
        "print('훈련 샘플 레이블의 크기 : {}'.format(y_train.shape))\n",
        "print('테스트 샘플 문장의 크기 : {}'.format(X_test.shape))\n",
        "print('테스트 샘플 레이블의 크기 : {}'.format(y_test.shape))"
      ],
      "execution_count": 31,
      "outputs": [
        {
          "output_type": "stream",
          "text": [
            "훈련 샘플 문장의 크기 : (3177, 200)\n",
            "훈련 샘플 레이블의 크기 : (3177, 200, 24)\n",
            "테스트 샘플 문장의 크기 : (794, 200)\n",
            "테스트 샘플 레이블의 크기 : (794, 200, 24)\n"
          ],
          "name": "stdout"
        }
      ]
    },
    {
      "cell_type": "markdown",
      "metadata": {
        "id": "btF3QvKIWJJ2"
      },
      "source": [
        "# F1-score를 측정하는 콜백 클래스\n"
      ]
    },
    {
      "cell_type": "code",
      "metadata": {
        "colab": {
          "base_uri": "https://localhost:8080/"
        },
        "id": "vUVhhrqnWDmu",
        "outputId": "6f1509f5-9431-45c1-fac8-b3c4e9d5f002"
      },
      "source": [
        "!pip install seqeval"
      ],
      "execution_count": 32,
      "outputs": [
        {
          "output_type": "stream",
          "text": [
            "Collecting seqeval\n",
            "\u001b[?25l  Downloading https://files.pythonhosted.org/packages/9d/2d/233c79d5b4e5ab1dbf111242299153f3caddddbb691219f363ad55ce783d/seqeval-1.2.2.tar.gz (43kB)\n",
            "\r\u001b[K     |███████▌                        | 10kB 7.5MB/s eta 0:00:01\r\u001b[K     |███████████████                 | 20kB 9.4MB/s eta 0:00:01\r\u001b[K     |██████████████████████▌         | 30kB 5.7MB/s eta 0:00:01\r\u001b[K     |██████████████████████████████  | 40kB 4.9MB/s eta 0:00:01\r\u001b[K     |████████████████████████████████| 51kB 2.5MB/s \n",
            "\u001b[?25hRequirement already satisfied: numpy>=1.14.0 in /usr/local/lib/python3.7/dist-packages (from seqeval) (1.19.5)\n",
            "Requirement already satisfied: scikit-learn>=0.21.3 in /usr/local/lib/python3.7/dist-packages (from seqeval) (0.22.2.post1)\n",
            "Requirement already satisfied: joblib>=0.11 in /usr/local/lib/python3.7/dist-packages (from scikit-learn>=0.21.3->seqeval) (1.0.1)\n",
            "Requirement already satisfied: scipy>=0.17.0 in /usr/local/lib/python3.7/dist-packages (from scikit-learn>=0.21.3->seqeval) (1.4.1)\n",
            "Building wheels for collected packages: seqeval\n",
            "  Building wheel for seqeval (setup.py) ... \u001b[?25l\u001b[?25hdone\n",
            "  Created wheel for seqeval: filename=seqeval-1.2.2-cp37-none-any.whl size=16172 sha256=98afef244f1e8ee0d05c40bd540feda6795c83fbb2fe10b84b6627221c3b3891\n",
            "  Stored in directory: /root/.cache/pip/wheels/52/df/1b/45d75646c37428f7e626214704a0e35bd3cfc32eda37e59e5f\n",
            "Successfully built seqeval\n",
            "Installing collected packages: seqeval\n",
            "Successfully installed seqeval-1.2.2\n"
          ],
          "name": "stdout"
        }
      ]
    },
    {
      "cell_type": "code",
      "metadata": {
        "colab": {
          "base_uri": "https://localhost:8080/"
        },
        "id": "L_GgogcKWXYf",
        "outputId": "2328252c-6583-470e-e28c-804ab759c7a5"
      },
      "source": [
        "from keras.callbacks import Callback\n",
        "from seqeval.metrics import f1_score, classification_report"
      ],
      "execution_count": 33,
      "outputs": [
        {
          "output_type": "stream",
          "text": [
            "Using TensorFlow backend.\n"
          ],
          "name": "stderr"
        }
      ]
    },
    {
      "cell_type": "code",
      "metadata": {
        "id": "qtWfjcwdWdfs"
      },
      "source": [
        "class F1score(Callback):\n",
        "    def __init__(self, value = 0.0, use_char=True):\n",
        "        super(F1score, self).__init__()\n",
        "        self.value = value\n",
        "        self.use_char = use_char\n",
        "\n",
        "    def sequences_to_tags(self, sequences): # 예측값을 index_to_ner를 사용하여 태깅 정보로 변경하는 함수.\n",
        "      result = []\n",
        "      for sequence in sequences: # 전체 시퀀스로부터 시퀀스를 하나씩 꺼낸다.\n",
        "          tag = []\n",
        "          for pred in sequence: # 시퀀스로부터 예측값을 하나씩 꺼낸다.\n",
        "              pred_index = np.argmax(pred) # 예를 들어 [0, 0, 1, 0 ,0]라면 1의 인덱스인 2를 리턴한다.\n",
        "              tag.append(index_to_ner[pred_index].replace(\"PAD\", \"O\")) # 'PAD'는 'O'로 변경\n",
        "          result.append(tag)\n",
        "      return result\n",
        "\n",
        "    # 에포크가 끝날 때마다 실행되는 함수\n",
        "    def on_epoch_end(self, epoch, logs={}):\n",
        "\n",
        "      # char Embedding을 사용하는 경우\n",
        "      if self.use_char:\n",
        "        X_test = self.validation_data[0]\n",
        "        X_char_test = self.validation_data[1]\n",
        "        y_test = self.validation_data[2]\n",
        "        y_predicted = self.model.predict([X_test, X_char_test])\n",
        "\n",
        "      else:\n",
        "        X_test = self.validation_data[0]\n",
        "        y_test = self.validation_data[1]\n",
        "        y_predicted = self.model.predict([X_test])\n",
        "\n",
        "      pred_tags = self.sequences_to_tags(y_predicted)\n",
        "      test_tags = self.sequences_to_tags(y_test)\n",
        "\n",
        "      score = f1_score(pred_tags, test_tags)\n",
        "      print(' - f1: {:04.2f}'.format(score * 100))\n",
        "      print(classification_report(test_tags, pred_tags))\n",
        "\n",
        "      # F1-score가 지금까지 중 가장 높은 경우\n",
        "      if score > self.value:\n",
        "        print('f1_score improved from %f to %f, saving model to best_model.h5'%(self.value, score))\n",
        "        self.model.save('best_model.h5')\n",
        "        self.value = score\n",
        "      else:\n",
        "        print('f1_score did not improve from %f'%(self.value))"
      ],
      "execution_count": 34,
      "outputs": []
    },
    {
      "cell_type": "markdown",
      "metadata": {
        "id": "Wy552iW0Wp91"
      },
      "source": [
        "# Bi LSTM+CRF를 이용한 개체명 인식(NER)"
      ]
    },
    {
      "cell_type": "code",
      "metadata": {
        "id": "res1XudPWoaw"
      },
      "source": [
        "from keras.models import Sequential\n",
        "from keras.layers import LSTM, Embedding, Dense, TimeDistributed, Dropout, Bidirectional\n",
        "from keras.models import load_model\n",
        "from keras_contrib.layers import CRF\n",
        "from keras_contrib.losses import crf_loss\n",
        "from keras_contrib.metrics import crf_viterbi_accuracy"
      ],
      "execution_count": 35,
      "outputs": []
    },
    {
      "cell_type": "markdown",
      "metadata": {
        "id": "X3PdGPIDW5w4"
      },
      "source": [
        "모델에 양방향 LSTM을 사용하고 모델의 출력층에 CRF층을 배치한다. "
      ]
    },
    {
      "cell_type": "code",
      "metadata": {
        "colab": {
          "base_uri": "https://localhost:8080/"
        },
        "id": "tJkfC1xHW0iI",
        "outputId": "ebb082eb-b28f-431a-863a-a8c2217b2900"
      },
      "source": [
        "model = Sequential()\n",
        "model.add(Embedding(input_dim=vocab_size, output_dim=64, input_length=max_len, mask_zero=True))\n",
        "model.add(Bidirectional(LSTM(128, return_sequences=True)))\n",
        "model.add(TimeDistributed(Dense(50, activation=\"relu\")))\n",
        "crf = CRF(tag_size)\n",
        "model.add(crf)"
      ],
      "execution_count": 36,
      "outputs": [
        {
          "output_type": "stream",
          "text": [
            "WARNING:tensorflow:From /usr/local/lib/python3.7/dist-packages/keras/backend/tensorflow_backend.py:74: The name tf.get_default_graph is deprecated. Please use tf.compat.v1.get_default_graph instead.\n",
            "\n",
            "WARNING:tensorflow:From /usr/local/lib/python3.7/dist-packages/keras/backend/tensorflow_backend.py:517: The name tf.placeholder is deprecated. Please use tf.compat.v1.placeholder instead.\n",
            "\n",
            "WARNING:tensorflow:From /usr/local/lib/python3.7/dist-packages/keras/backend/tensorflow_backend.py:4138: The name tf.random_uniform is deprecated. Please use tf.random.uniform instead.\n",
            "\n",
            "WARNING:tensorflow:From /usr/local/lib/python3.7/dist-packages/keras/backend/tensorflow_backend.py:2974: add_dispatch_support.<locals>.wrapper (from tensorflow.python.ops.array_ops) is deprecated and will be removed in a future version.\n",
            "Instructions for updating:\n",
            "Use tf.where in 2.0, which has the same broadcast rule as np.where\n",
            "WARNING:tensorflow:From /usr/local/lib/python3.7/dist-packages/keras/backend/tensorflow_backend.py:133: The name tf.placeholder_with_default is deprecated. Please use tf.compat.v1.placeholder_with_default instead.\n",
            "\n"
          ],
          "name": "stdout"
        }
      ]
    },
    {
      "cell_type": "code",
      "metadata": {
        "colab": {
          "base_uri": "https://localhost:8080/"
        },
        "id": "BQAyakvBXZlp",
        "outputId": "f637d068-147e-43da-be52-38138ff45500"
      },
      "source": [
        "model.compile(optimizer=\"adam\", loss=crf.loss_function, metrics=[crf.accuracy])\n",
        "history = model.fit(X_train, y_train, batch_size = 32, epochs = 10, validation_split = 0.1, verbose = 1, callbacks=[F1score(use_char=False)])"
      ],
      "execution_count": 38,
      "outputs": [
        {
          "output_type": "stream",
          "text": [
            "WARNING:tensorflow:From /usr/local/lib/python3.7/dist-packages/keras/optimizers.py:790: The name tf.train.Optimizer is deprecated. Please use tf.compat.v1.train.Optimizer instead.\n",
            "\n"
          ],
          "name": "stdout"
        },
        {
          "output_type": "stream",
          "text": [
            "/usr/local/lib/python3.7/dist-packages/keras_contrib/layers/crf.py:346: UserWarning: CRF.loss_function is deprecated and it might be removed in the future. Please use losses.crf_loss instead.\n",
            "  warnings.warn('CRF.loss_function is deprecated '\n",
            "/usr/local/lib/python3.7/dist-packages/keras_contrib/layers/crf.py:353: UserWarning: CRF.accuracy is deprecated and it might be removed in the future. Please use metrics.crf_accuracy\n",
            "  warnings.warn('CRF.accuracy is deprecated and it '\n"
          ],
          "name": "stderr"
        },
        {
          "output_type": "stream",
          "text": [
            "WARNING:tensorflow:From /usr/local/lib/python3.7/dist-packages/keras/backend/tensorflow_backend.py:986: The name tf.assign_add is deprecated. Please use tf.compat.v1.assign_add instead.\n",
            "\n",
            "Train on 2859 samples, validate on 318 samples\n",
            "Epoch 1/10\n",
            "2859/2859 [==============================] - 92s 32ms/step - loss: 22.5866 - crf_viterbi_accuracy: 0.7847 - val_loss: 22.3575 - val_crf_viterbi_accuracy: 0.8675\n"
          ],
          "name": "stdout"
        },
        {
          "output_type": "stream",
          "text": [
            "/usr/local/lib/python3.7/dist-packages/seqeval/metrics/sequence_labeling.py:171: UserWarning: O\n",
            " seems not to be NE tag.\n",
            "  warnings.warn('{} seems not to be NE tag.'.format(chunk))\n"
          ],
          "name": "stderr"
        },
        {
          "output_type": "stream",
          "text": [
            " - f1: 0.00\n"
          ],
          "name": "stdout"
        },
        {
          "output_type": "stream",
          "text": [
            "/usr/local/lib/python3.7/dist-packages/seqeval/metrics/v1.py:57: UndefinedMetricWarning: Precision and F-score are ill-defined and being set to 0.0 in labels with no predicted samples. Use `zero_division` parameter to control this behavior.\n",
            "  _warn_prf(average, modifier, msg_start, len(result))\n",
            "/usr/local/lib/python3.7/dist-packages/seqeval/metrics/v1.py:57: UndefinedMetricWarning: Precision and F-score are ill-defined and being set to 0.0 due to no predicted samples. Use `zero_division` parameter to control this behavior.\n",
            "  _warn_prf(average, modifier, msg_start, len(result))\n"
          ],
          "name": "stderr"
        },
        {
          "output_type": "stream",
          "text": [
            "               precision    recall  f1-score   support\n",
            "\n",
            "    ARTIFACT\n",
            "       0.00      0.00      0.00        63\n",
            "        DATE\n",
            "       0.00      0.00      0.00        90\n",
            "       EVENT\n",
            "       0.00      0.00      0.00        23\n",
            "    LOCATION\n",
            "       0.00      0.00      0.00       173\n",
            "       MONEY\n",
            "       0.00      0.00      0.00         2\n",
            "      NUMBER\n",
            "       0.00      0.00      0.00        72\n",
            "ORGANIZATION\n",
            "       0.00      0.00      0.00       116\n",
            "       OTHER\n",
            "       0.00      0.00      0.00        18\n",
            "     PERCENT\n",
            "       0.00      0.00      0.00         6\n",
            "      PERSON\n",
            "       0.00      0.00      0.00       111\n",
            "        TIME\n",
            "       0.00      0.00      0.00         3\n",
            "\n",
            "    micro avg       0.00      0.00      0.00       677\n",
            "    macro avg       0.00      0.00      0.00       677\n",
            " weighted avg       0.00      0.00      0.00       677\n",
            "\n",
            "f1_score did not improve from 0.000000\n",
            "Epoch 2/10\n",
            "2859/2859 [==============================] - 89s 31ms/step - loss: 21.9856 - crf_viterbi_accuracy: 0.8570 - val_loss: 22.1582 - val_crf_viterbi_accuracy: 0.8723\n",
            " - f1: 2.17\n",
            "               precision    recall  f1-score   support\n",
            "\n",
            "    ARTIFACT\n",
            "       0.00      0.00      0.00        63\n",
            "        DATE\n",
            "       0.16      0.07      0.09        90\n",
            "       EVENT\n",
            "       0.00      0.00      0.00        23\n",
            "    LOCATION\n",
            "       0.00      0.00      0.00       173\n",
            "       MONEY\n",
            "       0.00      0.00      0.00         2\n",
            "      NUMBER\n",
            "       0.11      0.03      0.04        72\n",
            "ORGANIZATION\n",
            "       0.00      0.00      0.00       116\n",
            "       OTHER\n",
            "       0.00      0.00      0.00        18\n",
            "     PERCENT\n",
            "       0.00      0.00      0.00         6\n",
            "      PERSON\n",
            "       0.00      0.00      0.00       111\n",
            "        TIME\n",
            "       0.00      0.00      0.00         3\n",
            "\n",
            "    micro avg       0.14      0.01      0.02       677\n",
            "    macro avg       0.02      0.01      0.01       677\n",
            " weighted avg       0.03      0.01      0.02       677\n",
            "\n",
            "f1_score improved from 0.000000 to 0.021739, saving model to best_model.h5\n",
            "Epoch 3/10\n",
            "2859/2859 [==============================] - 90s 31ms/step - loss: 21.8262 - crf_viterbi_accuracy: 0.8780 - val_loss: 22.1057 - val_crf_viterbi_accuracy: 0.8869\n",
            " - f1: 20.88\n",
            "               precision    recall  f1-score   support\n",
            "\n",
            "    ARTIFACT\n",
            "       0.00      0.00      0.00        63\n",
            "        DATE\n",
            "       0.30      0.54      0.38        90\n",
            "       EVENT\n",
            "       0.00      0.00      0.00        23\n",
            "    LOCATION\n",
            "       0.28      0.35      0.31       173\n",
            "       MONEY\n",
            "       0.00      0.00      0.00         2\n",
            "      NUMBER\n",
            "       0.33      0.01      0.03        72\n",
            "ORGANIZATION\n",
            "       0.00      0.00      0.00       116\n",
            "       OTHER\n",
            "       0.00      0.00      0.00        18\n",
            "     PERCENT\n",
            "       0.00      0.00      0.00         6\n",
            "      PERSON\n",
            "       0.00      0.00      0.00       111\n",
            "        TIME\n",
            "       0.00      0.00      0.00         3\n",
            "\n",
            "    micro avg       0.29      0.16      0.21       677\n",
            "    macro avg       0.08      0.08      0.07       677\n",
            " weighted avg       0.15      0.16      0.13       677\n",
            "\n",
            "f1_score improved from 0.021739 to 0.208843, saving model to best_model.h5\n",
            "Epoch 4/10\n",
            "2859/2859 [==============================] - 90s 31ms/step - loss: 21.7410 - crf_viterbi_accuracy: 0.8960 - val_loss: 22.0900 - val_crf_viterbi_accuracy: 0.8918\n",
            " - f1: 28.60\n",
            "               precision    recall  f1-score   support\n",
            "\n",
            "    ARTIFACT\n",
            "       0.00      0.00      0.00        63\n",
            "        DATE\n",
            "       0.50      0.66      0.57        90\n",
            "       EVENT\n",
            "       0.00      0.00      0.00        23\n",
            "    LOCATION\n",
            "       0.38      0.53      0.44       173\n",
            "       MONEY\n",
            "       0.00      0.00      0.00         2\n",
            "      NUMBER\n",
            "       0.17      0.04      0.07        72\n",
            "ORGANIZATION\n",
            "       0.00      0.00      0.00       116\n",
            "       OTHER\n",
            "       0.00      0.00      0.00        18\n",
            "     PERCENT\n",
            "       0.00      0.00      0.00         6\n",
            "      PERSON\n",
            "       0.00      0.00      0.00       111\n",
            "        TIME\n",
            "       0.00      0.00      0.00         3\n",
            "\n",
            "    micro avg       0.39      0.23      0.29       677\n",
            "    macro avg       0.10      0.11      0.10       677\n",
            " weighted avg       0.18      0.23      0.20       677\n",
            "\n",
            "f1_score improved from 0.208843 to 0.285981, saving model to best_model.h5\n",
            "Epoch 5/10\n",
            "2859/2859 [==============================] - 90s 31ms/step - loss: 21.6811 - crf_viterbi_accuracy: 0.9057 - val_loss: 22.0507 - val_crf_viterbi_accuracy: 0.8986\n",
            " - f1: 33.15\n",
            "               precision    recall  f1-score   support\n",
            "\n",
            "    ARTIFACT\n",
            "       0.00      0.00      0.00        63\n",
            "        DATE\n",
            "       0.62      0.62      0.62        90\n",
            "       EVENT\n",
            "       0.00      0.00      0.00        23\n",
            "    LOCATION\n",
            "       0.57      0.51      0.54       173\n",
            "       MONEY\n",
            "       0.00      0.00      0.00         2\n",
            "      NUMBER\n",
            "       0.33      0.31      0.32        72\n",
            "ORGANIZATION\n",
            "       0.18      0.11      0.14       116\n",
            "       OTHER\n",
            "       0.00      0.00      0.00        18\n",
            "     PERCENT\n",
            "       0.00      0.00      0.00         6\n",
            "      PERSON\n",
            "       0.00      0.00      0.00       111\n",
            "        TIME\n",
            "       0.00      0.00      0.00         3\n",
            "\n",
            "    micro avg       0.44      0.27      0.33       677\n",
            "    macro avg       0.15      0.14      0.15       677\n",
            " weighted avg       0.29      0.27      0.28       677\n",
            "\n",
            "f1_score improved from 0.285981 to 0.331492, saving model to best_model.h5\n",
            "Epoch 6/10\n",
            "2859/2859 [==============================] - 89s 31ms/step - loss: 21.6407 - crf_viterbi_accuracy: 0.9145 - val_loss: 22.0397 - val_crf_viterbi_accuracy: 0.8975\n",
            " - f1: 33.66\n",
            "               precision    recall  f1-score   support\n",
            "\n",
            "    ARTIFACT\n",
            "       0.00      0.00      0.00        63\n",
            "        DATE\n",
            "       0.76      0.64      0.70        90\n",
            "       EVENT\n",
            "       0.00      0.00      0.00        23\n",
            "    LOCATION\n",
            "       0.52      0.55      0.54       173\n",
            "       MONEY\n",
            "       0.00      0.00      0.00         2\n",
            "      NUMBER\n",
            "       0.31      0.40      0.35        72\n",
            "ORGANIZATION\n",
            "       0.10      0.03      0.05       116\n",
            "       OTHER\n",
            "       0.00      0.00      0.00        18\n",
            "     PERCENT\n",
            "       0.00      0.00      0.00         6\n",
            "      PERSON\n",
            "       0.07      0.01      0.02       111\n",
            "        TIME\n",
            "       0.00      0.00      0.00         3\n",
            "\n",
            "    micro avg       0.43      0.28      0.34       677\n",
            "    macro avg       0.16      0.15      0.15       677\n",
            " weighted avg       0.30      0.28      0.28       677\n",
            "\n",
            "f1_score improved from 0.331492 to 0.336616, saving model to best_model.h5\n",
            "Epoch 7/10\n",
            "2859/2859 [==============================] - 90s 32ms/step - loss: 21.6108 - crf_viterbi_accuracy: 0.9218 - val_loss: 22.0168 - val_crf_viterbi_accuracy: 0.8972\n",
            " - f1: 34.53\n",
            "               precision    recall  f1-score   support\n",
            "\n",
            "    ARTIFACT\n",
            "       0.06      0.03      0.04        63\n",
            "        DATE\n",
            "       0.70      0.67      0.68        90\n",
            "       EVENT\n",
            "       0.00      0.00      0.00        23\n",
            "    LOCATION\n",
            "       0.52      0.56      0.54       173\n",
            "       MONEY\n",
            "       0.00      0.00      0.00         2\n",
            "      NUMBER\n",
            "       0.33      0.36      0.35        72\n",
            "ORGANIZATION\n",
            "       0.16      0.20      0.18       116\n",
            "       OTHER\n",
            "       0.00      0.00      0.00        18\n",
            "     PERCENT\n",
            "       0.60      0.50      0.55         6\n",
            "      PERSON\n",
            "       0.00      0.00      0.00       111\n",
            "        TIME\n",
            "       0.00      0.00      0.00         3\n",
            "\n",
            "    micro avg       0.39      0.31      0.35       677\n",
            "    macro avg       0.22      0.21      0.21       677\n",
            " weighted avg       0.30      0.31      0.30       677\n",
            "\n",
            "f1_score improved from 0.336616 to 0.345336, saving model to best_model.h5\n",
            "Epoch 8/10\n",
            "2859/2859 [==============================] - 90s 32ms/step - loss: 21.5839 - crf_viterbi_accuracy: 0.9296 - val_loss: 22.0156 - val_crf_viterbi_accuracy: 0.9020\n",
            " - f1: 36.57\n",
            "               precision    recall  f1-score   support\n",
            "\n",
            "    ARTIFACT\n",
            "       0.08      0.08      0.08        63\n",
            "        DATE\n",
            "       0.80      0.66      0.72        90\n",
            "       EVENT\n",
            "       0.00      0.00      0.00        23\n",
            "    LOCATION\n",
            "       0.62      0.55      0.58       173\n",
            "       MONEY\n",
            "       0.00      0.00      0.00         2\n",
            "      NUMBER\n",
            "       0.39      0.51      0.44        72\n",
            "ORGANIZATION\n",
            "       0.26      0.07      0.11       116\n",
            "       OTHER\n",
            "       0.00      0.00      0.00        18\n",
            "     PERCENT\n",
            "       0.67      0.67      0.67         6\n",
            "      PERSON\n",
            "       0.08      0.05      0.06       111\n",
            "        TIME\n",
            "       0.00      0.00      0.00         3\n",
            "\n",
            "    micro avg       0.44      0.31      0.37       677\n",
            "    macro avg       0.26      0.23      0.24       677\n",
            " weighted avg       0.38      0.31      0.33       677\n",
            "\n",
            "f1_score improved from 0.345336 to 0.365665, saving model to best_model.h5\n",
            "Epoch 9/10\n",
            "2859/2859 [==============================] - 90s 32ms/step - loss: 21.5529 - crf_viterbi_accuracy: 0.9391 - val_loss: 22.0473 - val_crf_viterbi_accuracy: 0.8970\n",
            " - f1: 34.88\n",
            "               precision    recall  f1-score   support\n",
            "\n",
            "    ARTIFACT\n",
            "       0.11      0.16      0.13        63\n",
            "        DATE\n",
            "       0.84      0.59      0.69        90\n",
            "       EVENT\n",
            "       0.00      0.00      0.00        23\n",
            "    LOCATION\n",
            "       0.60      0.53      0.56       173\n",
            "       MONEY\n",
            "       0.00      0.00      0.00         2\n",
            "      NUMBER\n",
            "       0.42      0.43      0.42        72\n",
            "ORGANIZATION\n",
            "       0.33      0.03      0.06       116\n",
            "       OTHER\n",
            "       0.00      0.00      0.00        18\n",
            "     PERCENT\n",
            "       1.00      0.83      0.91         6\n",
            "      PERSON\n",
            "       0.08      0.05      0.06       111\n",
            "        TIME\n",
            "       0.00      0.00      0.00         3\n",
            "\n",
            "    micro avg       0.43      0.29      0.35       677\n",
            "    macro avg       0.31      0.24      0.26       677\n",
            " weighted avg       0.40      0.29      0.32       677\n",
            "\n",
            "f1_score did not improve from 0.365665\n",
            "Epoch 10/10\n",
            "2859/2859 [==============================] - 90s 31ms/step - loss: 21.5203 - crf_viterbi_accuracy: 0.9513 - val_loss: 22.0117 - val_crf_viterbi_accuracy: 0.9066\n",
            " - f1: 40.65\n",
            "               precision    recall  f1-score   support\n",
            "\n",
            "    ARTIFACT\n",
            "       0.15      0.22      0.18        63\n",
            "        DATE\n",
            "       0.82      0.67      0.74        90\n",
            "       EVENT\n",
            "       0.22      0.09      0.12        23\n",
            "    LOCATION\n",
            "       0.74      0.54      0.62       173\n",
            "       MONEY\n",
            "       0.00      0.00      0.00         2\n",
            "      NUMBER\n",
            "       0.55      0.49      0.51        72\n",
            "ORGANIZATION\n",
            "       0.25      0.27      0.26       116\n",
            "       OTHER\n",
            "       0.00      0.00      0.00        18\n",
            "     PERCENT\n",
            "       1.00      0.83      0.91         6\n",
            "      PERSON\n",
            "       0.18      0.08      0.11       111\n",
            "        TIME\n",
            "       0.00      0.00      0.00         3\n",
            "\n",
            "    micro avg       0.45      0.37      0.41       677\n",
            "    macro avg       0.36      0.29      0.31       677\n",
            " weighted avg       0.46      0.37      0.40       677\n",
            "\n",
            "f1_score improved from 0.365665 to 0.406531, saving model to best_model.h5\n"
          ],
          "name": "stdout"
        }
      ]
    },
    {
      "cell_type": "code",
      "metadata": {
        "id": "OqNTiuFIXDRl"
      },
      "source": [
        "bilstm_crf_model = load_model('best_model.h5', custom_objects={'CRF':CRF,\n",
        "                                                  'crf_loss':crf_loss,\n",
        "                                                  'crf_viterbi_accuracy':crf_viterbi_accuracy})"
      ],
      "execution_count": 39,
      "outputs": []
    },
    {
      "cell_type": "code",
      "metadata": {
        "colab": {
          "base_uri": "https://localhost:8080/"
        },
        "id": "P_j_dM0iXsaX",
        "outputId": "cae7187f-75d9-470a-ffc2-cf5b5bc2c88d"
      },
      "source": [
        "i=13 # 확인하고 싶은 테스트용 샘플의 인덱스.\n",
        "y_predicted = bilstm_crf_model.predict(np.array([X_test[i]])) # 입력한 테스트용 샘플에 대해서 예측 y를 리턴\n",
        "y_predicted = np.argmax(y_predicted, axis=-1) # 원-핫 인코딩을 다시 정수 인코딩으로 변경함.\n",
        "true = np.argmax(y_test[i], -1) # 원-핫 인코딩을 다시 정수 인코딩으로 변경함.\n",
        "\n",
        "print(\"{:15}|{:5}|{}\".format(\"단어\", \"실제값\", \"예측값\"))\n",
        "print(35 * \"-\")\n",
        "\n",
        "for w, t, pred in zip(X_test[i], true, y_predicted[0]):\n",
        "    if w != 0: # PAD값은 제외함.\n",
        "        print(\"{:17}: {:7} {}\".format(index_to_word[w], index_to_ner[t], index_to_ner[pred]))"
      ],
      "execution_count": 40,
      "outputs": [
        {
          "output_type": "stream",
          "text": [
            "단어             |실제값  |예측값\n",
            "-----------------------------------\n",
            "トーナメント           : O\n",
            "      O\n",
            "\n",
            "など               : O\n",
            "      O\n",
            "\n",
            "で                : O\n",
            "      O\n",
            "\n",
            "引き分け             : O\n",
            "      O\n",
            "\n",
            "と                : O\n",
            "      O\n",
            "\n",
            "なっ               : O\n",
            "      O\n",
            "\n",
            "た                : O\n",
            "      O\n",
            "\n",
            "場合               : O\n",
            "      O\n",
            "\n",
            "は                : O\n",
            "      O\n",
            "\n",
            "、                : O\n",
            "      O\n",
            "\n",
            "引き分け             : O\n",
            "      O\n",
            "\n",
            "を                : O\n",
            "      O\n",
            "\n",
            "つけ               : O\n",
            "      O\n",
            "\n",
            "た                : O\n",
            "      O\n",
            "\n",
            "ジャッジ             : O\n",
            "      O\n",
            "\n",
            "が                : O\n",
            "      O\n",
            "\n",
            "最終               : O\n",
            "      O\n",
            "\n",
            "判断               : O\n",
            "      O\n",
            "\n",
            "を                : O\n",
            "      O\n",
            "\n",
            "下し               : O\n",
            "      O\n",
            "\n",
            "て                : O\n",
            "      O\n",
            "\n",
            "決着               : O\n",
            "      O\n",
            "\n",
            "を                : O\n",
            "      O\n",
            "\n",
            "付ける              : O\n",
            "      O\n",
            "\n",
            "こと               : O\n",
            "      O\n",
            "\n",
            "に                : O\n",
            "      O\n",
            "\n",
            "なる               : O\n",
            "      O\n",
            "\n",
            "が                : O\n",
            "      O\n",
            "\n",
            "、                : O\n",
            "      O\n",
            "\n",
            "大会               : O\n",
            "      O\n",
            "\n",
            "によって             : O\n",
            "      O\n",
            "\n",
            "は                : O\n",
            "      O\n",
            "\n",
            "延長               : O\n",
            "      O\n",
            "\n",
            "戦                : O\n",
            "      O\n",
            "\n",
            "を                : O\n",
            "      O\n",
            "\n",
            "行う               : O\n",
            "      O\n",
            "\n",
            "場合               : O\n",
            "      O\n",
            "\n",
            "も                : O\n",
            "      O\n",
            "\n",
            "ある               : O\n",
            "      O\n",
            "\n"
          ],
          "name": "stdout"
        }
      ]
    },
    {
      "cell_type": "markdown",
      "metadata": {
        "id": "Hul-Hnv7Xvul"
      },
      "source": [
        "# F1 score 구하기\n",
        "\n",
        "앞서 구현한 모델에 대해서 f1-score를 적용하자. 모델의 return값이 숫자로 구성되어있기때문에 이를 먼저 태깅이 나열되어있는 리스트로 치환을 해야한다. 이 작업을 위해서 sequence_to_tag함수를 사용한다."
      ]
    },
    {
      "cell_type": "code",
      "metadata": {
        "id": "GvxwCtzkbpdE"
      },
      "source": [
        "f1score = F1score(use_char=False)\n",
        "\n",
        "y_predicted = bilstm_crf_model.predict([X_test])\n",
        "pred_tags = f1score.sequences_to_tags(y_predicted)\n",
        "test_tags = f1score.sequences_to_tags(y_test)"
      ],
      "execution_count": 41,
      "outputs": []
    },
    {
      "cell_type": "code",
      "metadata": {
        "colab": {
          "base_uri": "https://localhost:8080/"
        },
        "id": "KnWL5vOKcC3a",
        "outputId": "b44a9e45-8840-473e-cfbe-418a227ddea9"
      },
      "source": [
        "print(classification_report(test_tags, pred_tags))"
      ],
      "execution_count": 42,
      "outputs": [
        {
          "output_type": "stream",
          "text": [
            "/usr/local/lib/python3.7/dist-packages/seqeval/metrics/sequence_labeling.py:171: UserWarning: O\n",
            " seems not to be NE tag.\n",
            "  warnings.warn('{} seems not to be NE tag.'.format(chunk))\n",
            "/usr/local/lib/python3.7/dist-packages/seqeval/metrics/v1.py:57: UndefinedMetricWarning: Precision and F-score are ill-defined and being set to 0.0 in labels with no predicted samples. Use `zero_division` parameter to control this behavior.\n",
            "  _warn_prf(average, modifier, msg_start, len(result))\n"
          ],
          "name": "stderr"
        },
        {
          "output_type": "stream",
          "text": [
            "               precision    recall  f1-score   support\n",
            "\n",
            "    ARTIFACT\n",
            "       0.15      0.25      0.19       162\n",
            "        DATE\n",
            "       0.92      0.83      0.87       290\n",
            "       EVENT\n",
            "       0.00      0.00      0.00        37\n",
            "    LOCATION\n",
            "       0.64      0.41      0.50       585\n",
            "       MONEY\n",
            "       0.00      0.00      0.00        23\n",
            "      NUMBER\n",
            "       0.52      0.56      0.54       208\n",
            "ORGANIZATION\n",
            "       0.23      0.28      0.25       311\n",
            "       OTHER\n",
            "       0.33      0.05      0.09        82\n",
            "     PERCENT\n",
            "       0.71      0.49      0.58        41\n",
            "      PERSON\n",
            "       0.24      0.09      0.13       288\n",
            "        TIME\n",
            "       0.00      0.00      0.00         4\n",
            "\n",
            "    micro avg       0.47      0.38      0.42      2031\n",
            "    macro avg       0.34      0.27      0.29      2031\n",
            " weighted avg       0.48      0.38      0.41      2031\n",
            "\n"
          ],
          "name": "stdout"
        }
      ]
    },
    {
      "cell_type": "code",
      "metadata": {
        "colab": {
          "base_uri": "https://localhost:8080/"
        },
        "id": "gJijAtZscOLM",
        "outputId": "abb7e92a-2ad9-4094-c66c-3a0a62e321bf"
      },
      "source": [
        "print(\"F1-score: {:.1%}\".format(f1_score(test_tags, pred_tags)))"
      ],
      "execution_count": 43,
      "outputs": [
        {
          "output_type": "stream",
          "text": [
            "/usr/local/lib/python3.7/dist-packages/seqeval/metrics/sequence_labeling.py:171: UserWarning: O\n",
            " seems not to be NE tag.\n",
            "  warnings.warn('{} seems not to be NE tag.'.format(chunk))\n"
          ],
          "name": "stderr"
        },
        {
          "output_type": "stream",
          "text": [
            "F1-score: 41.9%\n"
          ],
          "name": "stdout"
        }
      ]
    }
  ]
}