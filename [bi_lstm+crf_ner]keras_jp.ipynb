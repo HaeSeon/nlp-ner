{
  "nbformat": 4,
  "nbformat_minor": 0,
  "metadata": {
    "colab": {
      "name": "[bi_lstm+crf_ner]keras_jp.ipynb",
      "provenance": [],
      "collapsed_sections": [],
      "authorship_tag": "ABX9TyMe5t86oKjtwUQRBg47UXea",
      "include_colab_link": true
    },
    "kernelspec": {
      "name": "python3",
      "display_name": "Python 3"
    },
    "language_info": {
      "name": "python"
    },
    "accelerator": "GPU"
  },
  "cells": [
    {
      "cell_type": "markdown",
      "metadata": {
        "id": "view-in-github",
        "colab_type": "text"
      },
      "source": [
        "<a href=\"https://colab.research.google.com/github/HaeSeon/nlp-ner/blob/main/%5Bbi_lstm%2Bcrf_ner%5Dkeras_jp.ipynb\" target=\"_parent\"><img src=\"https://colab.research.google.com/assets/colab-badge.svg\" alt=\"Open In Colab\"/></a>"
      ]
    },
    {
      "cell_type": "markdown",
      "metadata": {
        "id": "vc4MQNPSNJAt"
      },
      "source": [
        "# 환경 setting"
      ]
    },
    {
      "cell_type": "code",
      "metadata": {
        "colab": {
          "base_uri": "https://localhost:8080/"
        },
        "id": "fPKu3CnAMhyw",
        "outputId": "fbab4fae-5975-490d-c6d8-30b0d114c912"
      },
      "source": [
        "!pip install tensorflow==1.14.0\n",
        "!pip install keras==2.2.4\n",
        "!pip install tensorflow-gpu==1.14.0\n",
        "# crf 사용을 위해 keras_contrib을 설치\n",
        "!pip install git+https://www.github.com/keras-team/keras-contrib.git"
      ],
      "execution_count": 1,
      "outputs": [
        {
          "output_type": "stream",
          "text": [
            "Collecting tensorflow==1.14.0\n",
            "\u001b[?25l  Downloading https://files.pythonhosted.org/packages/f4/28/96efba1a516cdacc2e2d6d081f699c001d414cc8ca3250e6d59ae657eb2b/tensorflow-1.14.0-cp37-cp37m-manylinux1_x86_64.whl (109.3MB)\n",
            "\u001b[K     |████████████████████████████████| 109.3MB 37kB/s \n",
            "\u001b[?25hRequirement already satisfied: wheel>=0.26 in /usr/local/lib/python3.7/dist-packages (from tensorflow==1.14.0) (0.36.2)\n",
            "Requirement already satisfied: google-pasta>=0.1.6 in /usr/local/lib/python3.7/dist-packages (from tensorflow==1.14.0) (0.2.0)\n",
            "Collecting tensorflow-estimator<1.15.0rc0,>=1.14.0rc0\n",
            "\u001b[?25l  Downloading https://files.pythonhosted.org/packages/3c/d5/21860a5b11caf0678fbc8319341b0ae21a07156911132e0e71bffed0510d/tensorflow_estimator-1.14.0-py2.py3-none-any.whl (488kB)\n",
            "\u001b[K     |████████████████████████████████| 491kB 40.8MB/s \n",
            "\u001b[?25hRequirement already satisfied: absl-py>=0.7.0 in /usr/local/lib/python3.7/dist-packages (from tensorflow==1.14.0) (0.12.0)\n",
            "Collecting keras-applications>=1.0.6\n",
            "\u001b[?25l  Downloading https://files.pythonhosted.org/packages/71/e3/19762fdfc62877ae9102edf6342d71b28fbfd9dea3d2f96a882ce099b03f/Keras_Applications-1.0.8-py3-none-any.whl (50kB)\n",
            "\u001b[K     |████████████████████████████████| 51kB 8.9MB/s \n",
            "\u001b[?25hRequirement already satisfied: numpy<2.0,>=1.14.5 in /usr/local/lib/python3.7/dist-packages (from tensorflow==1.14.0) (1.19.5)\n",
            "Requirement already satisfied: six>=1.10.0 in /usr/local/lib/python3.7/dist-packages (from tensorflow==1.14.0) (1.15.0)\n",
            "Requirement already satisfied: astor>=0.6.0 in /usr/local/lib/python3.7/dist-packages (from tensorflow==1.14.0) (0.8.1)\n",
            "Requirement already satisfied: termcolor>=1.1.0 in /usr/local/lib/python3.7/dist-packages (from tensorflow==1.14.0) (1.1.0)\n",
            "Collecting tensorboard<1.15.0,>=1.14.0\n",
            "\u001b[?25l  Downloading https://files.pythonhosted.org/packages/91/2d/2ed263449a078cd9c8a9ba50ebd50123adf1f8cfbea1492f9084169b89d9/tensorboard-1.14.0-py3-none-any.whl (3.1MB)\n",
            "\u001b[K     |████████████████████████████████| 3.2MB 43.3MB/s \n",
            "\u001b[?25hRequirement already satisfied: protobuf>=3.6.1 in /usr/local/lib/python3.7/dist-packages (from tensorflow==1.14.0) (3.12.4)\n",
            "Requirement already satisfied: grpcio>=1.8.6 in /usr/local/lib/python3.7/dist-packages (from tensorflow==1.14.0) (1.32.0)\n",
            "Requirement already satisfied: gast>=0.2.0 in /usr/local/lib/python3.7/dist-packages (from tensorflow==1.14.0) (0.3.3)\n",
            "Requirement already satisfied: wrapt>=1.11.1 in /usr/local/lib/python3.7/dist-packages (from tensorflow==1.14.0) (1.12.1)\n",
            "Requirement already satisfied: keras-preprocessing>=1.0.5 in /usr/local/lib/python3.7/dist-packages (from tensorflow==1.14.0) (1.1.2)\n",
            "Requirement already satisfied: h5py in /usr/local/lib/python3.7/dist-packages (from keras-applications>=1.0.6->tensorflow==1.14.0) (2.10.0)\n",
            "Requirement already satisfied: setuptools>=41.0.0 in /usr/local/lib/python3.7/dist-packages (from tensorboard<1.15.0,>=1.14.0->tensorflow==1.14.0) (56.1.0)\n",
            "Requirement already satisfied: werkzeug>=0.11.15 in /usr/local/lib/python3.7/dist-packages (from tensorboard<1.15.0,>=1.14.0->tensorflow==1.14.0) (2.0.0)\n",
            "Requirement already satisfied: markdown>=2.6.8 in /usr/local/lib/python3.7/dist-packages (from tensorboard<1.15.0,>=1.14.0->tensorflow==1.14.0) (3.3.4)\n",
            "Requirement already satisfied: importlib-metadata; python_version < \"3.8\" in /usr/local/lib/python3.7/dist-packages (from markdown>=2.6.8->tensorboard<1.15.0,>=1.14.0->tensorflow==1.14.0) (4.0.1)\n",
            "Requirement already satisfied: zipp>=0.5 in /usr/local/lib/python3.7/dist-packages (from importlib-metadata; python_version < \"3.8\"->markdown>=2.6.8->tensorboard<1.15.0,>=1.14.0->tensorflow==1.14.0) (3.4.1)\n",
            "Requirement already satisfied: typing-extensions>=3.6.4; python_version < \"3.8\" in /usr/local/lib/python3.7/dist-packages (from importlib-metadata; python_version < \"3.8\"->markdown>=2.6.8->tensorboard<1.15.0,>=1.14.0->tensorflow==1.14.0) (3.7.4.3)\n",
            "Installing collected packages: tensorflow-estimator, keras-applications, tensorboard, tensorflow\n",
            "  Found existing installation: tensorflow-estimator 2.4.0\n",
            "    Uninstalling tensorflow-estimator-2.4.0:\n",
            "      Successfully uninstalled tensorflow-estimator-2.4.0\n",
            "  Found existing installation: tensorboard 2.4.1\n",
            "    Uninstalling tensorboard-2.4.1:\n",
            "      Successfully uninstalled tensorboard-2.4.1\n",
            "  Found existing installation: tensorflow 2.4.1\n",
            "    Uninstalling tensorflow-2.4.1:\n",
            "      Successfully uninstalled tensorflow-2.4.1\n",
            "Successfully installed keras-applications-1.0.8 tensorboard-1.14.0 tensorflow-1.14.0 tensorflow-estimator-1.14.0\n",
            "Collecting keras==2.2.4\n",
            "\u001b[?25l  Downloading https://files.pythonhosted.org/packages/5e/10/aa32dad071ce52b5502266b5c659451cfd6ffcbf14e6c8c4f16c0ff5aaab/Keras-2.2.4-py2.py3-none-any.whl (312kB)\n",
            "\u001b[K     |████████████████████████████████| 317kB 25.8MB/s \n",
            "\u001b[?25hRequirement already satisfied: h5py in /usr/local/lib/python3.7/dist-packages (from keras==2.2.4) (2.10.0)\n",
            "Requirement already satisfied: keras-applications>=1.0.6 in /usr/local/lib/python3.7/dist-packages (from keras==2.2.4) (1.0.8)\n",
            "Requirement already satisfied: scipy>=0.14 in /usr/local/lib/python3.7/dist-packages (from keras==2.2.4) (1.4.1)\n",
            "Requirement already satisfied: numpy>=1.9.1 in /usr/local/lib/python3.7/dist-packages (from keras==2.2.4) (1.19.5)\n",
            "Requirement already satisfied: six>=1.9.0 in /usr/local/lib/python3.7/dist-packages (from keras==2.2.4) (1.15.0)\n",
            "Requirement already satisfied: pyyaml in /usr/local/lib/python3.7/dist-packages (from keras==2.2.4) (3.13)\n",
            "Requirement already satisfied: keras-preprocessing>=1.0.5 in /usr/local/lib/python3.7/dist-packages (from keras==2.2.4) (1.1.2)\n",
            "Installing collected packages: keras\n",
            "  Found existing installation: Keras 2.4.3\n",
            "    Uninstalling Keras-2.4.3:\n",
            "      Successfully uninstalled Keras-2.4.3\n",
            "Successfully installed keras-2.2.4\n",
            "Collecting tensorflow-gpu==1.14.0\n",
            "\u001b[?25l  Downloading https://files.pythonhosted.org/packages/32/67/559ca8408431c37ad3a17e859c8c291ea82f092354074baef482b98ffb7b/tensorflow_gpu-1.14.0-cp37-cp37m-manylinux1_x86_64.whl (377.1MB)\n",
            "\u001b[K     |████████████████████████████████| 377.1MB 32kB/s \n",
            "\u001b[?25hRequirement already satisfied: numpy<2.0,>=1.14.5 in /usr/local/lib/python3.7/dist-packages (from tensorflow-gpu==1.14.0) (1.19.5)\n",
            "Requirement already satisfied: wrapt>=1.11.1 in /usr/local/lib/python3.7/dist-packages (from tensorflow-gpu==1.14.0) (1.12.1)\n",
            "Requirement already satisfied: wheel>=0.26 in /usr/local/lib/python3.7/dist-packages (from tensorflow-gpu==1.14.0) (0.36.2)\n",
            "Requirement already satisfied: termcolor>=1.1.0 in /usr/local/lib/python3.7/dist-packages (from tensorflow-gpu==1.14.0) (1.1.0)\n",
            "Requirement already satisfied: absl-py>=0.7.0 in /usr/local/lib/python3.7/dist-packages (from tensorflow-gpu==1.14.0) (0.12.0)\n",
            "Requirement already satisfied: keras-preprocessing>=1.0.5 in /usr/local/lib/python3.7/dist-packages (from tensorflow-gpu==1.14.0) (1.1.2)\n",
            "Requirement already satisfied: keras-applications>=1.0.6 in /usr/local/lib/python3.7/dist-packages (from tensorflow-gpu==1.14.0) (1.0.8)\n",
            "Requirement already satisfied: six>=1.10.0 in /usr/local/lib/python3.7/dist-packages (from tensorflow-gpu==1.14.0) (1.15.0)\n",
            "Requirement already satisfied: grpcio>=1.8.6 in /usr/local/lib/python3.7/dist-packages (from tensorflow-gpu==1.14.0) (1.32.0)\n",
            "Requirement already satisfied: gast>=0.2.0 in /usr/local/lib/python3.7/dist-packages (from tensorflow-gpu==1.14.0) (0.3.3)\n",
            "Requirement already satisfied: astor>=0.6.0 in /usr/local/lib/python3.7/dist-packages (from tensorflow-gpu==1.14.0) (0.8.1)\n",
            "Requirement already satisfied: protobuf>=3.6.1 in /usr/local/lib/python3.7/dist-packages (from tensorflow-gpu==1.14.0) (3.12.4)\n",
            "Requirement already satisfied: tensorboard<1.15.0,>=1.14.0 in /usr/local/lib/python3.7/dist-packages (from tensorflow-gpu==1.14.0) (1.14.0)\n",
            "Requirement already satisfied: tensorflow-estimator<1.15.0rc0,>=1.14.0rc0 in /usr/local/lib/python3.7/dist-packages (from tensorflow-gpu==1.14.0) (1.14.0)\n",
            "Requirement already satisfied: google-pasta>=0.1.6 in /usr/local/lib/python3.7/dist-packages (from tensorflow-gpu==1.14.0) (0.2.0)\n",
            "Requirement already satisfied: h5py in /usr/local/lib/python3.7/dist-packages (from keras-applications>=1.0.6->tensorflow-gpu==1.14.0) (2.10.0)\n",
            "Requirement already satisfied: setuptools in /usr/local/lib/python3.7/dist-packages (from protobuf>=3.6.1->tensorflow-gpu==1.14.0) (56.1.0)\n",
            "Requirement already satisfied: markdown>=2.6.8 in /usr/local/lib/python3.7/dist-packages (from tensorboard<1.15.0,>=1.14.0->tensorflow-gpu==1.14.0) (3.3.4)\n",
            "Requirement already satisfied: werkzeug>=0.11.15 in /usr/local/lib/python3.7/dist-packages (from tensorboard<1.15.0,>=1.14.0->tensorflow-gpu==1.14.0) (2.0.0)\n",
            "Requirement already satisfied: importlib-metadata; python_version < \"3.8\" in /usr/local/lib/python3.7/dist-packages (from markdown>=2.6.8->tensorboard<1.15.0,>=1.14.0->tensorflow-gpu==1.14.0) (4.0.1)\n",
            "Requirement already satisfied: typing-extensions>=3.6.4; python_version < \"3.8\" in /usr/local/lib/python3.7/dist-packages (from importlib-metadata; python_version < \"3.8\"->markdown>=2.6.8->tensorboard<1.15.0,>=1.14.0->tensorflow-gpu==1.14.0) (3.7.4.3)\n",
            "Requirement already satisfied: zipp>=0.5 in /usr/local/lib/python3.7/dist-packages (from importlib-metadata; python_version < \"3.8\"->markdown>=2.6.8->tensorboard<1.15.0,>=1.14.0->tensorflow-gpu==1.14.0) (3.4.1)\n",
            "Installing collected packages: tensorflow-gpu\n",
            "Successfully installed tensorflow-gpu-1.14.0\n",
            "Collecting git+https://www.github.com/keras-team/keras-contrib.git\n",
            "  Cloning https://www.github.com/keras-team/keras-contrib.git to /tmp/pip-req-build-lqb2ae3v\n",
            "  Running command git clone -q https://www.github.com/keras-team/keras-contrib.git /tmp/pip-req-build-lqb2ae3v\n",
            "Requirement already satisfied: keras in /usr/local/lib/python3.7/dist-packages (from keras-contrib==2.0.8) (2.2.4)\n",
            "Requirement already satisfied: six>=1.9.0 in /usr/local/lib/python3.7/dist-packages (from keras->keras-contrib==2.0.8) (1.15.0)\n",
            "Requirement already satisfied: h5py in /usr/local/lib/python3.7/dist-packages (from keras->keras-contrib==2.0.8) (2.10.0)\n",
            "Requirement already satisfied: keras-applications>=1.0.6 in /usr/local/lib/python3.7/dist-packages (from keras->keras-contrib==2.0.8) (1.0.8)\n",
            "Requirement already satisfied: numpy>=1.9.1 in /usr/local/lib/python3.7/dist-packages (from keras->keras-contrib==2.0.8) (1.19.5)\n",
            "Requirement already satisfied: pyyaml in /usr/local/lib/python3.7/dist-packages (from keras->keras-contrib==2.0.8) (3.13)\n",
            "Requirement already satisfied: scipy>=0.14 in /usr/local/lib/python3.7/dist-packages (from keras->keras-contrib==2.0.8) (1.4.1)\n",
            "Requirement already satisfied: keras-preprocessing>=1.0.5 in /usr/local/lib/python3.7/dist-packages (from keras->keras-contrib==2.0.8) (1.1.2)\n",
            "Building wheels for collected packages: keras-contrib\n",
            "  Building wheel for keras-contrib (setup.py) ... \u001b[?25l\u001b[?25hdone\n",
            "  Created wheel for keras-contrib: filename=keras_contrib-2.0.8-cp37-none-any.whl size=101065 sha256=4c887684704eef5f62cfd732e9b0806108e9c050ac1dc520a7c6b982ffdadfd9\n",
            "  Stored in directory: /tmp/pip-ephem-wheel-cache-vcqd7q7p/wheels/11/27/c8/4ed56de7b55f4f61244e2dc6ef3cdbaff2692527a2ce6502ba\n",
            "Successfully built keras-contrib\n",
            "Installing collected packages: keras-contrib\n",
            "Successfully installed keras-contrib-2.0.8\n"
          ],
          "name": "stdout"
        }
      ]
    },
    {
      "cell_type": "markdown",
      "metadata": {
        "id": "bRG6v1CSOWuB"
      },
      "source": [
        "# 데이터 전처리"
      ]
    },
    {
      "cell_type": "code",
      "metadata": {
        "colab": {
          "base_uri": "https://localhost:8080/"
        },
        "id": "YfnGdUIeOSSP",
        "outputId": "b07cffff-9929-43b3-95e7-a22e8ee6d2ac"
      },
      "source": [
        "import pandas as pd\n",
        "import numpy as np\n",
        "%matplotlib inline\n",
        "import matplotlib.pyplot as plt\n",
        "from tensorflow.keras.preprocessing.text import Tokenizer\n",
        "from tensorflow.keras.preprocessing.sequence import pad_sequences\n",
        "from sklearn.model_selection import train_test_split\n",
        "from tensorflow.keras.utils import to_categorical"
      ],
      "execution_count": 2,
      "outputs": [
        {
          "output_type": "stream",
          "text": [
            "/usr/local/lib/python3.7/dist-packages/tensorflow/python/framework/dtypes.py:516: FutureWarning: Passing (type, 1) or '1type' as a synonym of type is deprecated; in a future version of numpy, it will be understood as (type, (1,)) / '(1,)type'.\n",
            "  _np_qint8 = np.dtype([(\"qint8\", np.int8, 1)])\n",
            "/usr/local/lib/python3.7/dist-packages/tensorflow/python/framework/dtypes.py:517: FutureWarning: Passing (type, 1) or '1type' as a synonym of type is deprecated; in a future version of numpy, it will be understood as (type, (1,)) / '(1,)type'.\n",
            "  _np_quint8 = np.dtype([(\"quint8\", np.uint8, 1)])\n",
            "/usr/local/lib/python3.7/dist-packages/tensorflow/python/framework/dtypes.py:518: FutureWarning: Passing (type, 1) or '1type' as a synonym of type is deprecated; in a future version of numpy, it will be understood as (type, (1,)) / '(1,)type'.\n",
            "  _np_qint16 = np.dtype([(\"qint16\", np.int16, 1)])\n",
            "/usr/local/lib/python3.7/dist-packages/tensorflow/python/framework/dtypes.py:519: FutureWarning: Passing (type, 1) or '1type' as a synonym of type is deprecated; in a future version of numpy, it will be understood as (type, (1,)) / '(1,)type'.\n",
            "  _np_quint16 = np.dtype([(\"quint16\", np.uint16, 1)])\n",
            "/usr/local/lib/python3.7/dist-packages/tensorflow/python/framework/dtypes.py:520: FutureWarning: Passing (type, 1) or '1type' as a synonym of type is deprecated; in a future version of numpy, it will be understood as (type, (1,)) / '(1,)type'.\n",
            "  _np_qint32 = np.dtype([(\"qint32\", np.int32, 1)])\n",
            "/usr/local/lib/python3.7/dist-packages/tensorflow/python/framework/dtypes.py:525: FutureWarning: Passing (type, 1) or '1type' as a synonym of type is deprecated; in a future version of numpy, it will be understood as (type, (1,)) / '(1,)type'.\n",
            "  np_resource = np.dtype([(\"resource\", np.ubyte, 1)])\n",
            "/usr/local/lib/python3.7/dist-packages/tensorboard/compat/tensorflow_stub/dtypes.py:541: FutureWarning: Passing (type, 1) or '1type' as a synonym of type is deprecated; in a future version of numpy, it will be understood as (type, (1,)) / '(1,)type'.\n",
            "  _np_qint8 = np.dtype([(\"qint8\", np.int8, 1)])\n",
            "/usr/local/lib/python3.7/dist-packages/tensorboard/compat/tensorflow_stub/dtypes.py:542: FutureWarning: Passing (type, 1) or '1type' as a synonym of type is deprecated; in a future version of numpy, it will be understood as (type, (1,)) / '(1,)type'.\n",
            "  _np_quint8 = np.dtype([(\"quint8\", np.uint8, 1)])\n",
            "/usr/local/lib/python3.7/dist-packages/tensorboard/compat/tensorflow_stub/dtypes.py:543: FutureWarning: Passing (type, 1) or '1type' as a synonym of type is deprecated; in a future version of numpy, it will be understood as (type, (1,)) / '(1,)type'.\n",
            "  _np_qint16 = np.dtype([(\"qint16\", np.int16, 1)])\n",
            "/usr/local/lib/python3.7/dist-packages/tensorboard/compat/tensorflow_stub/dtypes.py:544: FutureWarning: Passing (type, 1) or '1type' as a synonym of type is deprecated; in a future version of numpy, it will be understood as (type, (1,)) / '(1,)type'.\n",
            "  _np_quint16 = np.dtype([(\"quint16\", np.uint16, 1)])\n",
            "/usr/local/lib/python3.7/dist-packages/tensorboard/compat/tensorflow_stub/dtypes.py:545: FutureWarning: Passing (type, 1) or '1type' as a synonym of type is deprecated; in a future version of numpy, it will be understood as (type, (1,)) / '(1,)type'.\n",
            "  _np_qint32 = np.dtype([(\"qint32\", np.int32, 1)])\n",
            "/usr/local/lib/python3.7/dist-packages/tensorboard/compat/tensorflow_stub/dtypes.py:550: FutureWarning: Passing (type, 1) or '1type' as a synonym of type is deprecated; in a future version of numpy, it will be understood as (type, (1,)) / '(1,)type'.\n",
            "  np_resource = np.dtype([(\"resource\", np.ubyte, 1)])\n"
          ],
          "name": "stderr"
        }
      ]
    },
    {
      "cell_type": "code",
      "metadata": {
        "colab": {
          "base_uri": "https://localhost:8080/"
        },
        "id": "GAXoaWovObN4",
        "outputId": "98db1689-fe6a-4df0-e26c-f866fe98aa34"
      },
      "source": [
        "train_set = 'train_set.txt'\n",
        "test_set = 'test_set.txt'\n",
        "f = open(train_set)\n",
        "f.readlines()[:10]"
      ],
      "execution_count": 3,
      "outputs": [
        {
          "output_type": "execute_result",
          "data": {
            "text/plain": [
              "['1960\\tB-DATE\\n',\n",
              " '年代\\tI-DATE\\n',\n",
              " 'と\\tO\\n',\n",
              " '1970\\tB-DATE\\n',\n",
              " '年代\\tI-DATE\\n',\n",
              " 'の\\tO\\n',\n",
              " '間\\tO\\n',\n",
              " 'に\\tO\\n',\n",
              " '、\\tO\\n',\n",
              " 'ジョエル\\tB-PERSON\\n']"
            ]
          },
          "metadata": {
            "tags": []
          },
          "execution_count": 3
        }
      ]
    },
    {
      "cell_type": "code",
      "metadata": {
        "id": "eis3I-vROzBk"
      },
      "source": [
        "def process_data(file_name):\n",
        "  sentence=[]\n",
        "  taged_sentences=[]\n",
        "  with open (file_name,'r') as f:\n",
        "    for line in f.readlines():\n",
        "      if \"。\" in line and len(sentence)>0:\n",
        "        taged_sentences.append(sentence)\n",
        "        sentence=[]\n",
        "      else:\n",
        "        if(len(line.split('\\t'))>1):\n",
        "          word=line.split('\\t')[0]\n",
        "          tag=line.split('\\t')[1]\n",
        "          sentence.append((word, tag))\n",
        "\n",
        "  return taged_sentences"
      ],
      "execution_count": 4,
      "outputs": []
    },
    {
      "cell_type": "code",
      "metadata": {
        "id": "eJRIrwmIPAq8"
      },
      "source": [
        "train_sents=process_data(train_set)\n",
        "test_sents=process_data(test_set)"
      ],
      "execution_count": 5,
      "outputs": []
    },
    {
      "cell_type": "code",
      "metadata": {
        "colab": {
          "base_uri": "https://localhost:8080/"
        },
        "id": "4qU1cV2BPHqv",
        "outputId": "8e48d040-ed0b-4a0c-993f-62734312dd25"
      },
      "source": [
        "train_sents[0]"
      ],
      "execution_count": 6,
      "outputs": [
        {
          "output_type": "execute_result",
          "data": {
            "text/plain": [
              "[('1960', 'B-DATE\\n'),\n",
              " ('年代', 'I-DATE\\n'),\n",
              " ('と', 'O\\n'),\n",
              " ('1970', 'B-DATE\\n'),\n",
              " ('年代', 'I-DATE\\n'),\n",
              " ('の', 'O\\n'),\n",
              " ('間', 'O\\n'),\n",
              " ('に', 'O\\n'),\n",
              " ('、', 'O\\n'),\n",
              " ('ジョエル', 'B-PERSON\\n'),\n",
              " ('・', 'I-PERSON\\n'),\n",
              " ('モーゼス', 'I-PERSON\\n'),\n",
              " ('は', 'O\\n'),\n",
              " (' ', 'O\\n'),\n",
              " ('プログラム', 'O\\n'),\n",
              " ('中', 'O\\n'),\n",
              " ('で', 'O\\n'),\n",
              " ('積分', 'O\\n'),\n",
              " ('問題', 'O\\n'),\n",
              " ('で', 'O\\n'),\n",
              " ('の', 'O\\n'),\n",
              " ('記号', 'O\\n'),\n",
              " ('的', 'O\\n'),\n",
              " ('推論', 'O\\n'),\n",
              " ('の', 'O\\n'),\n",
              " ('パワー', 'O\\n'),\n",
              " ('を', 'O\\n'),\n",
              " ('示し', 'O\\n'),\n",
              " ('た', 'O\\n')]"
            ]
          },
          "metadata": {
            "tags": []
          },
          "execution_count": 6
        }
      ]
    },
    {
      "cell_type": "code",
      "metadata": {
        "id": "G5kAu0jOPMXq"
      },
      "source": [
        "# sentence, ner_tag 분리\n",
        "def separate_sentence_tag(tagged_sentences):\n",
        "  sentences, ner_tags = [], [] \n",
        "  for tagged_sentence in tagged_sentences: # 47,959개의 문장 샘플을 1개씩 불러온다.\n",
        "    sentence, tag_info = zip(*tagged_sentence) # 각 샘플에서 단어들은 sentence에 개체명 태깅 정보들은 tag_info에 저장.\n",
        "    sentences.append(list(sentence)) # 각 샘플에서 단어 정보만 저장한다.\n",
        "    ner_tags.append(list(tag_info)) # 각 샘플에서 개체명 태깅 정보만 저장한다.\n",
        "  return sentences, ner_tags"
      ],
      "execution_count": 7,
      "outputs": []
    },
    {
      "cell_type": "code",
      "metadata": {
        "id": "Vy_CWg9vQE-a"
      },
      "source": [
        "train_sentences, train_tags = separate_sentence_tag(train_sents)\n",
        "test_sentences,test_tags = separate_sentence_tag(test_sents)"
      ],
      "execution_count": 8,
      "outputs": []
    },
    {
      "cell_type": "code",
      "metadata": {
        "id": "jURXTXXfhhZz"
      },
      "source": [
        "def deleteSpace(tags):\n",
        "  new_tags=[]\n",
        "  for tag in tags:\n",
        "    tag=[word.strip(\"\\n\") for word in tag]\n",
        "    new_tags.append(tag)\n",
        "  return new_tags"
      ],
      "execution_count": 9,
      "outputs": []
    },
    {
      "cell_type": "code",
      "metadata": {
        "id": "-wfv8D-7j_Sr"
      },
      "source": [
        "train_tags=deleteSpace(train_tags)\n",
        "test_tags=deleteSpace(test_tags)"
      ],
      "execution_count": 10,
      "outputs": []
    },
    {
      "cell_type": "code",
      "metadata": {
        "colab": {
          "base_uri": "https://localhost:8080/"
        },
        "id": "WotDpiwjQiFs",
        "outputId": "83859bae-4e09-4204-b5e7-0b799f3ac40f"
      },
      "source": [
        "print(train_sentences[0]) #예측을 위한 X\n",
        "print(train_tags[0])  #예측 대상인 Y"
      ],
      "execution_count": 11,
      "outputs": [
        {
          "output_type": "stream",
          "text": [
            "['1960', '年代', 'と', '1970', '年代', 'の', '間', 'に', '、', 'ジョエル', '・', 'モーゼス', 'は', ' ', 'プログラム', '中', 'で', '積分', '問題', 'で', 'の', '記号', '的', '推論', 'の', 'パワー', 'を', '示し', 'た']\n",
            "['B-DATE', 'I-DATE', 'O', 'B-DATE', 'I-DATE', 'O', 'O', 'O', 'O', 'B-PERSON', 'I-PERSON', 'I-PERSON', 'O', 'O', 'O', 'O', 'O', 'O', 'O', 'O', 'O', 'O', 'O', 'O', 'O', 'O', 'O', 'O', 'O']\n"
          ],
          "name": "stdout"
        }
      ]
    },
    {
      "cell_type": "markdown",
      "metadata": {
        "id": "ExdgIJLmQ8aS"
      },
      "source": [
        "**train data**"
      ]
    },
    {
      "cell_type": "code",
      "metadata": {
        "colab": {
          "base_uri": "https://localhost:8080/",
          "height": 315
        },
        "id": "4cx3BOGTQqBY",
        "outputId": "38733021-5174-4445-e977-a31fb635119d"
      },
      "source": [
        "print('샘플의 최대 길이 : %d' % max(len(l) for l in train_sentences))\n",
        "print('샘플의 평균 길이 : %f' % (sum(map(len, train_sentences))/len(train_sentences)))\n",
        "plt.hist([len(s) for s in train_sentences], bins=50)\n",
        "plt.xlabel('length of samples')\n",
        "plt.ylabel('number of samples')\n",
        "plt.show()"
      ],
      "execution_count": 12,
      "outputs": [
        {
          "output_type": "stream",
          "text": [
            "샘플의 최대 길이 : 191\n",
            "샘플의 평균 길이 : 34.853636\n"
          ],
          "name": "stdout"
        },
        {
          "output_type": "display_data",
          "data": {
            "image/png": "[encoded data removed]",
            "text/plain": [
              "<Figure size 432x288 with 1 Axes>"
            ]
          },
          "metadata": {
            "tags": [],
            "needs_background": "light"
          }
        }
      ]
    },
    {
      "cell_type": "markdown",
      "metadata": {
        "id": "lcbvZU0kROYz"
      },
      "source": [
        "**test data**"
      ]
    },
    {
      "cell_type": "code",
      "metadata": {
        "colab": {
          "base_uri": "https://localhost:8080/",
          "height": 315
        },
        "id": "ytEluWc-RHQW",
        "outputId": "fce599b6-6779-48f2-9b6d-304426484409"
      },
      "source": [
        "print('샘플의 최대 길이 : %d' % max(len(l) for l in test_sentences))\n",
        "print('샘플의 평균 길이 : %f' % (sum(map(len, test_sentences))/len(test_sentences)))\n",
        "plt.hist([len(s) for s in test_sentences], bins=50)\n",
        "plt.xlabel('length of samples')\n",
        "plt.ylabel('number of samples')\n",
        "plt.show()"
      ],
      "execution_count": 13,
      "outputs": [
        {
          "output_type": "stream",
          "text": [
            "샘플의 최대 길이 : 190\n",
            "샘플의 평균 길이 : 34.840050\n"
          ],
          "name": "stdout"
        },
        {
          "output_type": "display_data",
          "data": {
            "image/png": "[encoded data removed]",
            "text/plain": [
              "<Figure size 432x288 with 1 Axes>"
            ]
          },
          "metadata": {
            "tags": [],
            "needs_background": "light"
          }
        }
      ]
    },
    {
      "cell_type": "markdown",
      "metadata": {
        "id": "6ZUviv41UZ4z"
      },
      "source": [
        "**케라스 토크나이저를 통해 정수인코딩**"
      ]
    },
    {
      "cell_type": "code",
      "metadata": {
        "id": "Pp5E7P3mTfr6"
      },
      "source": [
        "# 문장 데이터에 대해서는 src_tokenizer\n",
        "src_tokenizer = Tokenizer(oov_token='OOV') # 모든 단어를 사용하지만 인덱스 1에는 단어 'OOV'를 할당한다.\n",
        "src_tokenizer.fit_on_texts(train_sentences+test_sentences)\n",
        "# 개체명 태깅 정보에 대해서는 tar_tokenizer\n",
        "tar_tokenizer = Tokenizer(lower=False) # 태깅 정보들은 내부적으로 대문자를 유지한채로 저장\n",
        "tar_tokenizer.fit_on_texts(train_tags+test_tags)"
      ],
      "execution_count": 14,
      "outputs": []
    },
    {
      "cell_type": "code",
      "metadata": {
        "colab": {
          "base_uri": "https://localhost:8080/"
        },
        "id": "EKQT4_hPTpaN",
        "outputId": "13296554-2e12-4eaf-ac1b-c36e4ae0e335"
      },
      "source": [
        "vocab_size = len(src_tokenizer.word_index) + 1\n",
        "tag_size = len(tar_tokenizer.word_index) + 1\n",
        "print('단어 집합의 크기 : {}'.format(vocab_size))\n",
        "print('개체명 태깅 정보 집합의 크기 : {}'.format(tag_size))"
      ],
      "execution_count": 15,
      "outputs": [
        {
          "output_type": "stream",
          "text": [
            "단어 집합의 크기 : 15962\n",
            "개체명 태깅 정보 집합의 크기 : 24\n"
          ],
          "name": "stdout"
        }
      ]
    },
    {
      "cell_type": "code",
      "metadata": {
        "colab": {
          "base_uri": "https://localhost:8080/"
        },
        "id": "FDCCuSSpT4Yq",
        "outputId": "00f04e46-0694-4134-aa46-1d473e28affb"
      },
      "source": [
        "# 앞서 src_tokenizer를 만들때 Tokenizer의 인자로 oov_token='OOV'를 선택했으므로 인덱스 1에 'OOV' 할당\n",
        "print('단어 OOV의 인덱스 : {}'.format(src_tokenizer.word_index['OOV']))"
      ],
      "execution_count": 16,
      "outputs": [
        {
          "output_type": "stream",
          "text": [
            "단어 OOV의 인덱스 : 1\n"
          ],
          "name": "stdout"
        }
      ]
    },
    {
      "cell_type": "code",
      "metadata": {
        "colab": {
          "base_uri": "https://localhost:8080/"
        },
        "id": "GHVoWsjsT790",
        "outputId": "ba4875a8-ddf8-4831-8b47-abada4a249aa"
      },
      "source": [
        "# 정수 인코딩\n",
        "X_train = src_tokenizer.texts_to_sequences(train_sentences)\n",
        "y_train = tar_tokenizer.texts_to_sequences(train_tags)\n",
        "X_test = src_tokenizer.texts_to_sequences(test_sentences)\n",
        "y_test = tar_tokenizer.texts_to_sequences(test_tags)\n",
        "print(X_train[0])  #문장 데이터의 정수 인코딩 결과\n",
        "print(y_train[0])  #개체명 태깅 데이터에 대해서 정수 인코딩의 결과"
      ],
      "execution_count": 17,
      "outputs": [
        {
          "output_type": "stream",
          "text": [
            "[864, 104, 11, 653, 104, 2, 128, 4, 3, 7949, 22, 7950, 5, 27, 722, 66, 9, 7951, 157, 9, 2, 3962, 29, 2603, 2, 1932, 6, 723, 8]\n",
            "[6, 3, 1, 6, 3, 1, 1, 1, 1, 9, 12, 12, 1, 1, 1, 1, 1, 1, 1, 1, 1, 1, 1, 1, 1, 1, 1, 1, 1]\n"
          ],
          "name": "stdout"
        }
      ]
    },
    {
      "cell_type": "code",
      "metadata": {
        "colab": {
          "base_uri": "https://localhost:8080/"
        },
        "id": "N0f5S5h4UV6V",
        "outputId": "d8084c71-239e-458f-df47-1f94382e4b84"
      },
      "source": [
        "# 모델 훈련 후 결과 확인을 위해 인덱스로부터 단어를 리턴하는 배열 만들어두기\n",
        "word_to_index = src_tokenizer.word_index\n",
        "index_to_word = src_tokenizer.index_word\n",
        "ner_to_index = tar_tokenizer.word_index\n",
        "index_to_ner = tar_tokenizer.index_word\n",
        "index_to_ner[0] = 'PAD'\n",
        "print(index_to_ner)"
      ],
      "execution_count": 18,
      "outputs": [
        {
          "output_type": "stream",
          "text": [
            "{1: 'O', 2: 'B-LOCATION', 3: 'I-DATE', 4: 'I-ORGANIZATION', 5: 'B-ORGANIZATION', 6: 'B-DATE', 7: 'I-NUMBER', 8: 'I-ARTIFACT', 9: 'B-PERSON', 10: 'I-LOCATION', 11: 'B-NUMBER', 12: 'I-PERSON', 13: 'B-ARTIFACT', 14: 'I-EVENT', 15: 'I-OTHER', 16: 'B-OTHER', 17: 'I-PERCENT', 18: 'B-EVENT', 19: 'B-PERCENT', 20: 'I-MONEY', 21: 'B-MONEY', 22: 'I-TIME', 23: 'B-TIME', 0: 'PAD'}\n"
          ],
          "name": "stdout"
        }
      ]
    },
    {
      "cell_type": "code",
      "metadata": {
        "id": "uRKyC9hqVA5h"
      },
      "source": [
        "max_len = 200\n",
        "# 모든 샘플들의 길이를 맞출 때 뒤의 공간에 숫자 0으로 채움.\n",
        "X_train = pad_sequences(X_train, padding='post', maxlen=max_len)\n",
        "y_train = pad_sequences(y_train, padding='post', maxlen=max_len)\n",
        "X_test = pad_sequences(X_test, padding='post', maxlen=max_len)\n",
        "y_test = pad_sequences(y_test, padding='post', maxlen=max_len)"
      ],
      "execution_count": 19,
      "outputs": []
    },
    {
      "cell_type": "code",
      "metadata": {
        "id": "PaOJEIqMV4I-"
      },
      "source": [
        "# 레이블에 대해 one hot 인코딩\n",
        "y_train = to_categorical(y_train, num_classes=tag_size)\n",
        "y_test = to_categorical(y_test, num_classes=tag_size)"
      ],
      "execution_count": 20,
      "outputs": []
    },
    {
      "cell_type": "code",
      "metadata": {
        "colab": {
          "base_uri": "https://localhost:8080/"
        },
        "id": "cVOBLiZVWDjL",
        "outputId": "6e0242a2-710c-4f54-e57e-b7a947c16306"
      },
      "source": [
        "print('훈련 샘플 문장의 크기 : {}'.format(X_train.shape))\n",
        "print('훈련 샘플 레이블의 크기 : {}'.format(y_train.shape))\n",
        "print('테스트 샘플 문장의 크기 : {}'.format(X_test.shape))\n",
        "print('테스트 샘플 레이블의 크기 : {}'.format(y_test.shape))"
      ],
      "execution_count": 21,
      "outputs": [
        {
          "output_type": "stream",
          "text": [
            "훈련 샘플 문장의 크기 : (3177, 200)\n",
            "훈련 샘플 레이블의 크기 : (3177, 200, 24)\n",
            "테스트 샘플 문장의 크기 : (794, 200)\n",
            "테스트 샘플 레이블의 크기 : (794, 200, 24)\n"
          ],
          "name": "stdout"
        }
      ]
    },
    {
      "cell_type": "markdown",
      "metadata": {
        "id": "btF3QvKIWJJ2"
      },
      "source": [
        "# F1-score를 측정하는 콜백 클래스\n"
      ]
    },
    {
      "cell_type": "code",
      "metadata": {
        "colab": {
          "base_uri": "https://localhost:8080/"
        },
        "id": "vUVhhrqnWDmu",
        "outputId": "144ab48a-0b70-4fe9-b36f-f571078623a6"
      },
      "source": [
        "!pip install seqeval"
      ],
      "execution_count": 22,
      "outputs": [
        {
          "output_type": "stream",
          "text": [
            "Collecting seqeval\n",
            "\u001b[?25l  Downloading https://files.pythonhosted.org/packages/9d/2d/233c79d5b4e5ab1dbf111242299153f3caddddbb691219f363ad55ce783d/seqeval-1.2.2.tar.gz (43kB)\n",
            "\r\u001b[K     |███████▌                        | 10kB 20.1MB/s eta 0:00:01\r\u001b[K     |███████████████                 | 20kB 27.0MB/s eta 0:00:01\r\u001b[K     |██████████████████████▌         | 30kB 30.9MB/s eta 0:00:01\r\u001b[K     |██████████████████████████████  | 40kB 30.7MB/s eta 0:00:01\r\u001b[K     |████████████████████████████████| 51kB 7.9MB/s \n",
            "\u001b[?25hRequirement already satisfied: numpy>=1.14.0 in /usr/local/lib/python3.7/dist-packages (from seqeval) (1.19.5)\n",
            "Requirement already satisfied: scikit-learn>=0.21.3 in /usr/local/lib/python3.7/dist-packages (from seqeval) (0.22.2.post1)\n",
            "Requirement already satisfied: scipy>=0.17.0 in /usr/local/lib/python3.7/dist-packages (from scikit-learn>=0.21.3->seqeval) (1.4.1)\n",
            "Requirement already satisfied: joblib>=0.11 in /usr/local/lib/python3.7/dist-packages (from scikit-learn>=0.21.3->seqeval) (1.0.1)\n",
            "Building wheels for collected packages: seqeval\n",
            "  Building wheel for seqeval (setup.py) ... \u001b[?25l\u001b[?25hdone\n",
            "  Created wheel for seqeval: filename=seqeval-1.2.2-cp37-none-any.whl size=16172 sha256=f87d2169c830bd8e3b6866d75fea2e3a393869e0ef7668a266a131b672340b37\n",
            "  Stored in directory: /root/.cache/pip/wheels/52/df/1b/45d75646c37428f7e626214704a0e35bd3cfc32eda37e59e5f\n",
            "Successfully built seqeval\n",
            "Installing collected packages: seqeval\n",
            "Successfully installed seqeval-1.2.2\n"
          ],
          "name": "stdout"
        }
      ]
    },
    {
      "cell_type": "code",
      "metadata": {
        "colab": {
          "base_uri": "https://localhost:8080/"
        },
        "id": "L_GgogcKWXYf",
        "outputId": "be90c602-aea9-4caf-bfca-625a699ba2ca"
      },
      "source": [
        "from keras.callbacks import Callback\n",
        "from seqeval.metrics import f1_score, classification_report"
      ],
      "execution_count": 23,
      "outputs": [
        {
          "output_type": "stream",
          "text": [
            "Using TensorFlow backend.\n"
          ],
          "name": "stderr"
        }
      ]
    },
    {
      "cell_type": "code",
      "metadata": {
        "id": "qtWfjcwdWdfs"
      },
      "source": [
        "class F1score(Callback):\n",
        "    def __init__(self, value = 0.0, use_char=True):\n",
        "        super(F1score, self).__init__()\n",
        "        self.value = value\n",
        "        self.use_char = use_char\n",
        "\n",
        "    def sequences_to_tags(self, sequences): # 예측값을 index_to_ner를 사용하여 태깅 정보로 변경하는 함수.\n",
        "      result = []\n",
        "      for sequence in sequences: # 전체 시퀀스로부터 시퀀스를 하나씩 꺼낸다.\n",
        "          tag = []\n",
        "          for pred in sequence: # 시퀀스로부터 예측값을 하나씩 꺼낸다.\n",
        "              pred_index = np.argmax(pred) # 예를 들어 [0, 0, 1, 0 ,0]라면 1의 인덱스인 2를 리턴한다.\n",
        "              tag.append(index_to_ner[pred_index].replace(\"PAD\", \"O\")) # 'PAD'는 'O'로 변경\n",
        "          result.append(tag)\n",
        "      return result\n",
        "\n",
        "    # 에포크가 끝날 때마다 실행되는 함수\n",
        "    def on_epoch_end(self, epoch, logs={}):\n",
        "\n",
        "      # char Embedding을 사용하는 경우\n",
        "      if self.use_char:\n",
        "        X_test = self.validation_data[0]\n",
        "        X_char_test = self.validation_data[1]\n",
        "        y_test = self.validation_data[2]\n",
        "        y_predicted = self.model.predict([X_test, X_char_test])\n",
        "\n",
        "      else:\n",
        "        X_test = self.validation_data[0]\n",
        "        y_test = self.validation_data[1]\n",
        "        y_predicted = self.model.predict([X_test])\n",
        "\n",
        "      pred_tags = self.sequences_to_tags(y_predicted)\n",
        "      test_tags = self.sequences_to_tags(y_test)\n",
        "\n",
        "      score = f1_score(pred_tags, test_tags)\n",
        "      print(' - f1: {:04.2f}'.format(score * 100))\n",
        "      print(classification_report(test_tags, pred_tags))\n",
        "\n",
        "      # F1-score가 지금까지 중 가장 높은 경우\n",
        "      if score > self.value:\n",
        "        print('f1_score improved from %f to %f, saving model to best_model.h5'%(self.value, score))\n",
        "        self.model.save('best_model.h5')\n",
        "        self.value = score\n",
        "      else:\n",
        "        print('f1_score did not improve from %f'%(self.value))"
      ],
      "execution_count": 24,
      "outputs": []
    },
    {
      "cell_type": "markdown",
      "metadata": {
        "id": "Wy552iW0Wp91"
      },
      "source": [
        "# Bi LSTM+CRF를 이용한 개체명 인식(NER)"
      ]
    },
    {
      "cell_type": "code",
      "metadata": {
        "id": "res1XudPWoaw"
      },
      "source": [
        "from keras.models import Sequential\n",
        "from keras.layers import LSTM, Embedding, Dense, TimeDistributed, Dropout, Bidirectional\n",
        "from keras.models import load_model\n",
        "from keras_contrib.layers import CRF\n",
        "from keras_contrib.losses import crf_loss\n",
        "from keras_contrib.metrics import crf_viterbi_accuracy"
      ],
      "execution_count": 25,
      "outputs": []
    },
    {
      "cell_type": "markdown",
      "metadata": {
        "id": "X3PdGPIDW5w4"
      },
      "source": [
        "모델에 양방향 LSTM을 사용하고 모델의 출력층에 CRF층을 배치한다. "
      ]
    },
    {
      "cell_type": "code",
      "metadata": {
        "colab": {
          "base_uri": "https://localhost:8080/"
        },
        "id": "tJkfC1xHW0iI",
        "outputId": "0790f14e-9f6f-4b07-83c4-9314d1b3080a"
      },
      "source": [
        "model = Sequential()\n",
        "model.add(Embedding(input_dim=vocab_size, output_dim=64, input_length=max_len, mask_zero=True))\n",
        "model.add(Bidirectional(LSTM(128, return_sequences=True)))\n",
        "model.add(TimeDistributed(Dense(50, activation=\"relu\")))\n",
        "crf = CRF(tag_size)\n",
        "model.add(crf)"
      ],
      "execution_count": 26,
      "outputs": [
        {
          "output_type": "stream",
          "text": [
            "WARNING:tensorflow:From /usr/local/lib/python3.7/dist-packages/keras/backend/tensorflow_backend.py:74: The name tf.get_default_graph is deprecated. Please use tf.compat.v1.get_default_graph instead.\n",
            "\n",
            "WARNING:tensorflow:From /usr/local/lib/python3.7/dist-packages/keras/backend/tensorflow_backend.py:517: The name tf.placeholder is deprecated. Please use tf.compat.v1.placeholder instead.\n",
            "\n",
            "WARNING:tensorflow:From /usr/local/lib/python3.7/dist-packages/keras/backend/tensorflow_backend.py:4138: The name tf.random_uniform is deprecated. Please use tf.random.uniform instead.\n",
            "\n",
            "WARNING:tensorflow:From /usr/local/lib/python3.7/dist-packages/keras/backend/tensorflow_backend.py:2974: add_dispatch_support.<locals>.wrapper (from tensorflow.python.ops.array_ops) is deprecated and will be removed in a future version.\n",
            "Instructions for updating:\n",
            "Use tf.where in 2.0, which has the same broadcast rule as np.where\n",
            "WARNING:tensorflow:From /usr/local/lib/python3.7/dist-packages/keras/backend/tensorflow_backend.py:133: The name tf.placeholder_with_default is deprecated. Please use tf.compat.v1.placeholder_with_default instead.\n",
            "\n"
          ],
          "name": "stdout"
        }
      ]
    },
    {
      "cell_type": "code",
      "metadata": {
        "id": "-ARr-WlTuyKP"
      },
      "source": [
        "# Loss graph\n",
        "import matplotlib.pyplot as plt"
      ],
      "execution_count": 27,
      "outputs": []
    },
    {
      "cell_type": "code",
      "metadata": {
        "colab": {
          "base_uri": "https://localhost:8080/"
        },
        "id": "BQAyakvBXZlp",
        "outputId": "7d357cbb-37a6-4ad1-decb-caa98ff2f0ed"
      },
      "source": [
        "model.compile(optimizer=\"adam\", loss=crf.loss_function, metrics=[crf.accuracy])\n",
        "history = model.fit(X_train, y_train, batch_size = 32, epochs = 50, validation_split = 0.1, verbose = 1, callbacks=[F1score(use_char=False)])\n",
        "\n",
        " "
      ],
      "execution_count": 28,
      "outputs": [
        {
          "output_type": "stream",
          "text": [
            "WARNING:tensorflow:From /usr/local/lib/python3.7/dist-packages/keras/optimizers.py:790: The name tf.train.Optimizer is deprecated. Please use tf.compat.v1.train.Optimizer instead.\n",
            "\n"
          ],
          "name": "stdout"
        },
        {
          "output_type": "stream",
          "text": [
            "/usr/local/lib/python3.7/dist-packages/keras_contrib/layers/crf.py:346: UserWarning: CRF.loss_function is deprecated and it might be removed in the future. Please use losses.crf_loss instead.\n",
            "  warnings.warn('CRF.loss_function is deprecated '\n",
            "/usr/local/lib/python3.7/dist-packages/keras_contrib/layers/crf.py:353: UserWarning: CRF.accuracy is deprecated and it might be removed in the future. Please use metrics.crf_accuracy\n",
            "  warnings.warn('CRF.accuracy is deprecated and it '\n"
          ],
          "name": "stderr"
        },
        {
          "output_type": "stream",
          "text": [
            "WARNING:tensorflow:From /usr/local/lib/python3.7/dist-packages/keras/backend/tensorflow_backend.py:986: The name tf.assign_add is deprecated. Please use tf.compat.v1.assign_add instead.\n",
            "\n",
            "Train on 2859 samples, validate on 318 samples\n",
            "Epoch 1/50\n",
            "2859/2859 [==============================] - 93s 32ms/step - loss: 22.5725 - crf_viterbi_accuracy: 0.7787 - val_loss: 22.3057 - val_crf_viterbi_accuracy: 0.8642\n",
            " - f1: 0.00\n"
          ],
          "name": "stdout"
        },
        {
          "output_type": "stream",
          "text": [
            "/usr/local/lib/python3.7/dist-packages/seqeval/metrics/v1.py:57: UndefinedMetricWarning: Precision and F-score are ill-defined and being set to 0.0 in labels with no predicted samples. Use `zero_division` parameter to control this behavior.\n",
            "  _warn_prf(average, modifier, msg_start, len(result))\n",
            "/usr/local/lib/python3.7/dist-packages/seqeval/metrics/v1.py:57: UndefinedMetricWarning: Precision and F-score are ill-defined and being set to 0.0 due to no predicted samples. Use `zero_division` parameter to control this behavior.\n",
            "  _warn_prf(average, modifier, msg_start, len(result))\n"
          ],
          "name": "stderr"
        },
        {
          "output_type": "stream",
          "text": [
            "              precision    recall  f1-score   support\n",
            "\n",
            "    ARTIFACT       0.00      0.00      0.00        71\n",
            "        DATE       0.00      0.00      0.00        97\n",
            "       EVENT       0.00      0.00      0.00        24\n",
            "    LOCATION       0.00      0.00      0.00       186\n",
            "       MONEY       0.00      0.00      0.00         2\n",
            "      NUMBER       0.00      0.00      0.00        76\n",
            "ORGANIZATION       0.00      0.00      0.00       126\n",
            "       OTHER       0.00      0.00      0.00        19\n",
            "     PERCENT       0.00      0.00      0.00         6\n",
            "      PERSON       0.00      0.00      0.00       116\n",
            "        TIME       0.00      0.00      0.00         3\n",
            "\n",
            "   micro avg       0.00      0.00      0.00       726\n",
            "   macro avg       0.00      0.00      0.00       726\n",
            "weighted avg       0.00      0.00      0.00       726\n",
            "\n",
            "f1_score did not improve from 0.000000\n",
            "Epoch 2/50\n",
            "2859/2859 [==============================] - 88s 31ms/step - loss: 21.9519 - crf_viterbi_accuracy: 0.8538 - val_loss: 22.0927 - val_crf_viterbi_accuracy: 0.8641\n",
            " - f1: 0.00\n",
            "              precision    recall  f1-score   support\n",
            "\n",
            "    ARTIFACT       0.00      0.00      0.00        71\n",
            "        DATE       0.00      0.00      0.00        97\n",
            "       EVENT       0.00      0.00      0.00        24\n",
            "    LOCATION       0.00      0.00      0.00       186\n",
            "       MONEY       0.00      0.00      0.00         2\n",
            "      NUMBER       0.00      0.00      0.00        76\n",
            "ORGANIZATION       0.00      0.00      0.00       126\n",
            "       OTHER       0.00      0.00      0.00        19\n",
            "     PERCENT       0.00      0.00      0.00         6\n",
            "      PERSON       0.00      0.00      0.00       116\n",
            "        TIME       0.00      0.00      0.00         3\n",
            "\n",
            "   micro avg       0.00      0.00      0.00       726\n",
            "   macro avg       0.00      0.00      0.00       726\n",
            "weighted avg       0.00      0.00      0.00       726\n",
            "\n",
            "f1_score did not improve from 0.000000\n",
            "Epoch 3/50\n",
            "2859/2859 [==============================] - 87s 31ms/step - loss: 21.7775 - crf_viterbi_accuracy: 0.8606 - val_loss: 22.0252 - val_crf_viterbi_accuracy: 0.8739\n",
            " - f1: 9.29\n",
            "              precision    recall  f1-score   support\n",
            "\n",
            "    ARTIFACT       0.00      0.00      0.00        71\n",
            "        DATE       0.01      0.01      0.01        97\n",
            "       EVENT       0.00      0.00      0.00        24\n",
            "    LOCATION       0.18      0.32      0.23       186\n",
            "       MONEY       0.00      0.00      0.00         2\n",
            "      NUMBER       0.00      0.00      0.00        76\n",
            "ORGANIZATION       0.00      0.00      0.00       126\n",
            "       OTHER       0.00      0.00      0.00        19\n",
            "     PERCENT       0.00      0.00      0.00         6\n",
            "      PERSON       0.00      0.00      0.00       116\n",
            "        TIME       0.00      0.00      0.00         3\n",
            "\n",
            "   micro avg       0.11      0.08      0.09       726\n",
            "   macro avg       0.02      0.03      0.02       726\n",
            "weighted avg       0.05      0.08      0.06       726\n",
            "\n",
            "f1_score improved from 0.000000 to 0.092879, saving model to best_model.h5\n",
            "Epoch 4/50\n",
            "2859/2859 [==============================] - 87s 30ms/step - loss: 21.6830 - crf_viterbi_accuracy: 0.8829 - val_loss: 21.9766 - val_crf_viterbi_accuracy: 0.8841\n",
            " - f1: 23.85\n",
            "              precision    recall  f1-score   support\n",
            "\n",
            "    ARTIFACT       0.00      0.00      0.00        71\n",
            "        DATE       0.17      0.58      0.27        97\n",
            "       EVENT       0.00      0.00      0.00        24\n",
            "    LOCATION       0.49      0.49      0.49       186\n",
            "       MONEY       0.00      0.00      0.00         2\n",
            "      NUMBER       0.15      0.08      0.10        76\n",
            "ORGANIZATION       0.00      0.00      0.00       126\n",
            "       OTHER       0.00      0.00      0.00        19\n",
            "     PERCENT       0.00      0.00      0.00         6\n",
            "      PERSON       0.00      0.00      0.00       116\n",
            "        TIME       0.00      0.00      0.00         3\n",
            "\n",
            "   micro avg       0.27      0.21      0.24       726\n",
            "   macro avg       0.07      0.10      0.08       726\n",
            "weighted avg       0.16      0.21      0.17       726\n",
            "\n",
            "f1_score improved from 0.092879 to 0.238504, saving model to best_model.h5\n",
            "Epoch 5/50\n",
            "2859/2859 [==============================] - 87s 31ms/step - loss: 21.6116 - crf_viterbi_accuracy: 0.9011 - val_loss: 21.9382 - val_crf_viterbi_accuracy: 0.8934\n",
            " - f1: 28.78\n",
            "              precision    recall  f1-score   support\n",
            "\n",
            "    ARTIFACT       0.03      0.01      0.02        71\n",
            "        DATE       0.46      0.61      0.53        97\n",
            "       EVENT       0.00      0.00      0.00        24\n",
            "    LOCATION       0.51      0.52      0.51       186\n",
            "       MONEY       0.00      0.00      0.00         2\n",
            "      NUMBER       0.17      0.36      0.23        76\n",
            "ORGANIZATION       0.11      0.13      0.12       126\n",
            "       OTHER       0.00      0.00      0.00        19\n",
            "     PERCENT       0.00      0.00      0.00         6\n",
            "      PERSON       0.00      0.00      0.00       116\n",
            "        TIME       0.00      0.00      0.00         3\n",
            "\n",
            "   micro avg       0.30      0.27      0.29       726\n",
            "   macro avg       0.12      0.15      0.13       726\n",
            "weighted avg       0.23      0.27      0.25       726\n",
            "\n",
            "f1_score improved from 0.238504 to 0.287780, saving model to best_model.h5\n",
            "Epoch 6/50\n",
            "2859/2859 [==============================] - 87s 30ms/step - loss: 21.5592 - crf_viterbi_accuracy: 0.9142 - val_loss: 21.9238 - val_crf_viterbi_accuracy: 0.8975\n",
            "              precision    recall  f1-score   support\n",
            "\n",
            "    ARTIFACT       0.02      0.01      0.02        71\n",
            "        DATE       0.66      0.65      0.65        97\n",
            "       EVENT       0.00      0.00      0.00        24\n",
            "    LOCATION       0.43      0.57      0.49       186\n",
            "       MONEY       0.00      0.00      0.00         2\n",
            "      NUMBER       0.29      0.37      0.32        76\n",
            "ORGANIZATION       0.12      0.07      0.09       126\n",
            "       OTHER       0.00      0.00      0.00        19\n",
            "     PERCENT       0.00      0.00      0.00         6\n",
            "      PERSON       0.00      0.00      0.00       116\n",
            "        TIME       0.00      0.00      0.00         3\n",
            "\n",
            "   micro avg       0.36      0.29      0.32       726\n",
            "   macro avg       0.14      0.15      0.14       726\n",
            "weighted avg       0.25      0.29      0.26       726\n",
            "\n",
            "f1_score improved from 0.287780 to 0.318707, saving model to best_model.h5\n",
            "Epoch 7/50\n",
            "2859/2859 [==============================] - 87s 31ms/step - loss: 21.5217 - crf_viterbi_accuracy: 0.9208 - val_loss: 21.9148 - val_crf_viterbi_accuracy: 0.8970\n",
            " - f1: 35.02\n",
            "              precision    recall  f1-score   support\n",
            "\n",
            "    ARTIFACT       0.02      0.01      0.02        71\n",
            "        DATE       0.69      0.65      0.67        97\n",
            "       EVENT       0.00      0.00      0.00        24\n",
            "    LOCATION       0.42      0.60      0.49       186\n",
            "       MONEY       0.00      0.00      0.00         2\n",
            "      NUMBER       0.48      0.38      0.43        76\n",
            "ORGANIZATION       0.21      0.21      0.21       126\n",
            "       OTHER       0.00      0.00      0.00        19\n",
            "     PERCENT       0.14      0.17      0.15         6\n",
            "      PERSON       0.33      0.01      0.02       116\n",
            "        TIME       0.00      0.00      0.00         3\n",
            "\n",
            "   micro avg       0.39      0.32      0.35       726\n",
            "   macro avg       0.21      0.18      0.18       726\n",
            "weighted avg       0.34      0.32      0.30       726\n",
            "\n",
            "f1_score improved from 0.318707 to 0.350189, saving model to best_model.h5\n",
            "Epoch 8/50\n",
            "2859/2859 [==============================] - 87s 31ms/step - loss: 21.4932 - crf_viterbi_accuracy: 0.9290 - val_loss: 21.9069 - val_crf_viterbi_accuracy: 0.9038\n",
            " - f1: 37.62\n",
            "              precision    recall  f1-score   support\n",
            "\n",
            "    ARTIFACT       0.06      0.03      0.04        71\n",
            "        DATE       0.73      0.65      0.69        97\n",
            "       EVENT       0.00      0.00      0.00        24\n",
            "    LOCATION       0.46      0.58      0.51       186\n",
            "       MONEY       0.00      0.00      0.00         2\n",
            "      NUMBER       0.44      0.47      0.46        76\n",
            "ORGANIZATION       0.28      0.24      0.26       126\n",
            "       OTHER       0.00      0.00      0.00        19\n",
            "     PERCENT       0.57      0.67      0.62         6\n",
            "      PERSON       0.17      0.04      0.07       116\n",
            "        TIME       0.00      0.00      0.00         3\n",
            "\n",
            "   micro avg       0.42      0.34      0.38       726\n",
            "   macro avg       0.25      0.24      0.24       726\n",
            "weighted avg       0.35      0.34      0.33       726\n",
            "\n",
            "f1_score improved from 0.350189 to 0.376238, saving model to best_model.h5\n",
            "Epoch 9/50\n",
            "2859/2859 [==============================] - 87s 31ms/step - loss: 21.4632 - crf_viterbi_accuracy: 0.9389 - val_loss: 21.9103 - val_crf_viterbi_accuracy: 0.9055\n",
            " - f1: 39.84\n",
            "              precision    recall  f1-score   support\n",
            "\n",
            "    ARTIFACT       0.09      0.10      0.09        71\n",
            "        DATE       0.72      0.65      0.68        97\n",
            "       EVENT       0.00      0.00      0.00        24\n",
            "    LOCATION       0.60      0.56      0.58       186\n",
            "       MONEY       0.00      0.00      0.00         2\n",
            "      NUMBER       0.43      0.46      0.44        76\n",
            "ORGANIZATION       0.39      0.24      0.30       126\n",
            "       OTHER       0.33      0.05      0.09        19\n",
            "     PERCENT       0.67      0.67      0.67         6\n",
            "      PERSON       0.32      0.09      0.14       116\n",
            "        TIME       0.00      0.00      0.00         3\n",
            "\n",
            "   micro avg       0.46      0.35      0.40       726\n",
            "   macro avg       0.32      0.26      0.27       726\n",
            "weighted avg       0.44      0.35      0.38       726\n",
            "\n",
            "f1_score improved from 0.376238 to 0.398438, saving model to best_model.h5\n",
            "Epoch 10/50\n",
            "2859/2859 [==============================] - 88s 31ms/step - loss: 21.4318 - crf_viterbi_accuracy: 0.9511 - val_loss: 21.9012 - val_crf_viterbi_accuracy: 0.9105\n",
            " - f1: 42.41\n",
            "              precision    recall  f1-score   support\n",
            "\n",
            "    ARTIFACT       0.20      0.10      0.13        71\n",
            "        DATE       0.73      0.65      0.69        97\n",
            "       EVENT       0.00      0.00      0.00        24\n",
            "    LOCATION       0.54      0.59      0.57       186\n",
            "       MONEY       0.00      0.00      0.00         2\n",
            "      NUMBER       0.52      0.50      0.51        76\n",
            "ORGANIZATION       0.31      0.33      0.32       126\n",
            "       OTHER       0.33      0.05      0.09        19\n",
            "     PERCENT       0.83      0.83      0.83         6\n",
            "      PERSON       0.41      0.11      0.18       116\n",
            "        TIME       0.00      0.00      0.00         3\n",
            "\n",
            "   micro avg       0.48      0.38      0.42       726\n",
            "   macro avg       0.35      0.29      0.30       726\n",
            "weighted avg       0.45      0.38      0.40       726\n",
            "\n",
            "f1_score improved from 0.398438 to 0.424104, saving model to best_model.h5\n",
            "Epoch 11/50\n",
            "2859/2859 [==============================] - 87s 31ms/step - loss: 21.3994 - crf_viterbi_accuracy: 0.9629 - val_loss: 21.8921 - val_crf_viterbi_accuracy: 0.9118\n",
            " - f1: 44.30\n",
            "              precision    recall  f1-score   support\n",
            "\n",
            "    ARTIFACT       0.12      0.08      0.10        71\n",
            "        DATE       0.75      0.67      0.71        97\n",
            "       EVENT       0.04      0.04      0.04        24\n",
            "    LOCATION       0.55      0.67      0.60       186\n",
            "       MONEY       0.00      0.00      0.00         2\n",
            "      NUMBER       0.51      0.47      0.49        76\n",
            "ORGANIZATION       0.43      0.33      0.38       126\n",
            "       OTHER       0.00      0.00      0.00        19\n",
            "     PERCENT       0.83      0.83      0.83         6\n",
            "      PERSON       0.36      0.18      0.24       116\n",
            "        TIME       0.00      0.00      0.00         3\n",
            "\n",
            "   micro avg       0.48      0.41      0.44       726\n",
            "   macro avg       0.33      0.30      0.31       726\n",
            "weighted avg       0.44      0.41      0.42       726\n",
            "\n",
            "f1_score improved from 0.424104 to 0.442973, saving model to best_model.h5\n",
            "Epoch 12/50\n",
            "2859/2859 [==============================] - 87s 30ms/step - loss: 21.3747 - crf_viterbi_accuracy: 0.9708 - val_loss: 21.8921 - val_crf_viterbi_accuracy: 0.9112\n",
            " - f1: 43.16\n",
            "              precision    recall  f1-score   support\n",
            "\n",
            "    ARTIFACT       0.12      0.04      0.06        71\n",
            "        DATE       0.81      0.70      0.75        97\n",
            "       EVENT       0.08      0.12      0.10        24\n",
            "    LOCATION       0.43      0.66      0.52       186\n",
            "       MONEY       0.00      0.00      0.00         2\n",
            "      NUMBER       0.48      0.50      0.49        76\n",
            "ORGANIZATION       0.41      0.37      0.39       126\n",
            "       OTHER       0.17      0.05      0.08        19\n",
            "     PERCENT       0.83      0.83      0.83         6\n",
            "      PERSON       0.34      0.17      0.23       116\n",
            "        TIME       0.00      0.00      0.00         3\n",
            "\n",
            "   micro avg       0.44      0.42      0.43       726\n",
            "   macro avg       0.33      0.31      0.31       726\n",
            "weighted avg       0.42      0.42      0.41       726\n",
            "\n",
            "f1_score did not improve from 0.442973\n",
            "Epoch 13/50\n",
            "2859/2859 [==============================] - 87s 30ms/step - loss: 21.3558 - crf_viterbi_accuracy: 0.9788 - val_loss: 21.9115 - val_crf_viterbi_accuracy: 0.9117\n",
            " - f1: 44.87\n",
            "              precision    recall  f1-score   support\n",
            "\n",
            "    ARTIFACT       0.10      0.06      0.07        71\n",
            "        DATE       0.79      0.72      0.75        97\n",
            "       EVENT       0.17      0.29      0.21        24\n",
            "    LOCATION       0.47      0.68      0.56       186\n",
            "       MONEY       1.00      0.50      0.67         2\n",
            "      NUMBER       0.54      0.45      0.49        76\n",
            "ORGANIZATION       0.40      0.39      0.40       126\n",
            "       OTHER       0.17      0.05      0.08        19\n",
            "     PERCENT       1.00      0.83      0.91         6\n",
            "      PERSON       0.38      0.18      0.24       116\n",
            "        TIME       0.00      0.00      0.00         3\n",
            "\n",
            "   micro avg       0.46      0.44      0.45       726\n",
            "   macro avg       0.45      0.38      0.40       726\n",
            "weighted avg       0.44      0.44      0.43       726\n",
            "\n",
            "f1_score improved from 0.442973 to 0.448664, saving model to best_model.h5\n",
            "Epoch 14/50\n",
            "2859/2859 [==============================] - 87s 30ms/step - loss: 21.3415 - crf_viterbi_accuracy: 0.9835 - val_loss: 21.9431 - val_crf_viterbi_accuracy: 0.9154\n",
            " - f1: 45.73\n",
            "              precision    recall  f1-score   support\n",
            "\n",
            "    ARTIFACT       0.17      0.11      0.14        71\n",
            "        DATE       0.83      0.69      0.75        97\n",
            "       EVENT       0.17      0.21      0.19        24\n",
            "    LOCATION       0.62      0.58      0.60       186\n",
            "       MONEY       1.00      0.50      0.67         2\n",
            "      NUMBER       0.54      0.49      0.51        76\n",
            "ORGANIZATION       0.53      0.30      0.38       126\n",
            "       OTHER       0.12      0.11      0.11        19\n",
            "     PERCENT       0.83      0.83      0.83         6\n",
            "      PERSON       0.36      0.18      0.24       116\n",
            "        TIME       0.00      0.00      0.00         3\n",
            "\n",
            "   micro avg       0.53      0.40      0.46       726\n",
            "   macro avg       0.47      0.36      0.40       726\n",
            "weighted avg       0.51      0.40      0.44       726\n",
            "\n",
            "f1_score improved from 0.448664 to 0.457322, saving model to best_model.h5\n",
            "Epoch 15/50\n",
            "2859/2859 [==============================] - 87s 30ms/step - loss: 21.3323 - crf_viterbi_accuracy: 0.9866 - val_loss: 21.9658 - val_crf_viterbi_accuracy: 0.9182\n",
            " - f1: 46.22\n",
            "              precision    recall  f1-score   support\n",
            "\n",
            "    ARTIFACT       0.15      0.06      0.08        71\n",
            "        DATE       0.76      0.70      0.73        97\n",
            "       EVENT       0.36      0.42      0.38        24\n",
            "    LOCATION       0.60      0.58      0.59       186\n",
            "       MONEY       0.50      0.50      0.50         2\n",
            "      NUMBER       0.53      0.51      0.52        76\n",
            "ORGANIZATION       0.45      0.30      0.36       126\n",
            "       OTHER       0.20      0.21      0.21        19\n",
            "     PERCENT       0.83      0.83      0.83         6\n",
            "      PERSON       0.37      0.20      0.26       116\n",
            "        TIME       0.00      0.00      0.00         3\n",
            "\n",
            "   micro avg       0.52      0.41      0.46       726\n",
            "   macro avg       0.43      0.39      0.41       726\n",
            "weighted avg       0.49      0.41      0.44       726\n",
            "\n",
            "f1_score improved from 0.457322 to 0.462250, saving model to best_model.h5\n",
            "Epoch 16/50\n",
            "2859/2859 [==============================] - 87s 30ms/step - loss: 21.3240 - crf_viterbi_accuracy: 0.9889 - val_loss: 21.9630 - val_crf_viterbi_accuracy: 0.9169\n",
            " - f1: 45.43\n",
            "              precision    recall  f1-score   support\n",
            "\n",
            "    ARTIFACT       0.19      0.07      0.10        71\n",
            "        DATE       0.84      0.70      0.76        97\n",
            "       EVENT       0.37      0.46      0.41        24\n",
            "    LOCATION       0.46      0.63      0.53       186\n",
            "       MONEY       1.00      0.50      0.67         2\n",
            "      NUMBER       0.56      0.50      0.53        76\n",
            "ORGANIZATION       0.43      0.33      0.38       126\n",
            "       OTHER       0.15      0.21      0.17        19\n",
            "     PERCENT       0.83      0.83      0.83         6\n",
            "      PERSON       0.38      0.17      0.24       116\n",
            "        TIME       0.00      0.00      0.00         3\n",
            "\n",
            "   micro avg       0.48      0.43      0.45       726\n",
            "   macro avg       0.47      0.40      0.42       726\n",
            "weighted avg       0.47      0.43      0.43       726\n",
            "\n",
            "f1_score did not improve from 0.462250\n",
            "Epoch 17/50\n",
            "2859/2859 [==============================] - 87s 30ms/step - loss: 21.3177 - crf_viterbi_accuracy: 0.9917 - val_loss: 21.9941 - val_crf_viterbi_accuracy: 0.9161\n",
            " - f1: 46.33\n",
            "              precision    recall  f1-score   support\n",
            "\n",
            "    ARTIFACT       0.26      0.14      0.18        71\n",
            "        DATE       0.77      0.71      0.74        97\n",
            "       EVENT       0.45      0.42      0.43        24\n",
            "    LOCATION       0.58      0.58      0.58       186\n",
            "       MONEY       0.00      0.00      0.00         2\n",
            "      NUMBER       0.54      0.51      0.53        76\n",
            "ORGANIZATION       0.43      0.29      0.35       126\n",
            "       OTHER       0.12      0.21      0.15        19\n",
            "     PERCENT       0.71      0.83      0.77         6\n",
            "      PERSON       0.47      0.18      0.26       116\n",
            "        TIME       0.00      0.00      0.00         3\n",
            "\n",
            "   micro avg       0.52      0.42      0.46       726\n",
            "   macro avg       0.39      0.35      0.36       726\n",
            "weighted avg       0.51      0.42      0.45       726\n",
            "\n",
            "f1_score improved from 0.462250 to 0.463303, saving model to best_model.h5\n",
            "Epoch 18/50\n",
            "2859/2859 [==============================] - 87s 30ms/step - loss: 21.3141 - crf_viterbi_accuracy: 0.9924 - val_loss: 22.0087 - val_crf_viterbi_accuracy: 0.9165\n",
            " - f1: 46.35\n",
            "              precision    recall  f1-score   support\n",
            "\n",
            "    ARTIFACT       0.26      0.11      0.16        71\n",
            "        DATE       0.83      0.69      0.75        97\n",
            "       EVENT       0.21      0.50      0.30        24\n",
            "    LOCATION       0.55      0.61      0.58       186\n",
            "       MONEY       1.00      0.50      0.67         2\n",
            "      NUMBER       0.58      0.50      0.54        76\n",
            "ORGANIZATION       0.46      0.29      0.35       126\n",
            "       OTHER       0.22      0.32      0.26        19\n",
            "     PERCENT       0.83      0.83      0.83         6\n",
            "      PERSON       0.38      0.22      0.28       116\n",
            "        TIME       0.00      0.00      0.00         3\n",
            "\n",
            "   micro avg       0.50      0.43      0.46       726\n",
            "   macro avg       0.48      0.41      0.43       726\n",
            "weighted avg       0.50      0.43      0.45       726\n",
            "\n",
            "f1_score improved from 0.463303 to 0.463487, saving model to best_model.h5\n",
            "Epoch 19/50\n",
            "2859/2859 [==============================] - 86s 30ms/step - loss: 21.3091 - crf_viterbi_accuracy: 0.9943 - val_loss: 22.0081 - val_crf_viterbi_accuracy: 0.9112\n",
            " - f1: 44.97\n",
            "              precision    recall  f1-score   support\n",
            "\n",
            "    ARTIFACT       0.22      0.18      0.20        71\n",
            "        DATE       0.78      0.70      0.74        97\n",
            "       EVENT       0.19      0.42      0.26        24\n",
            "    LOCATION       0.48      0.63      0.55       186\n",
            "       MONEY       1.00      0.50      0.67         2\n",
            "      NUMBER       0.55      0.45      0.49        76\n",
            "ORGANIZATION       0.36      0.36      0.36       126\n",
            "       OTHER       0.29      0.26      0.28        19\n",
            "     PERCENT       0.83      0.83      0.83         6\n",
            "      PERSON       0.44      0.20      0.27       116\n",
            "        TIME       0.00      0.00      0.00         3\n",
            "\n",
            "   micro avg       0.46      0.44      0.45       726\n",
            "   macro avg       0.47      0.41      0.42       726\n",
            "weighted avg       0.46      0.44      0.44       726\n",
            "\n",
            "f1_score did not improve from 0.463487\n",
            "Epoch 20/50\n",
            "2859/2859 [==============================] - 86s 30ms/step - loss: 21.3054 - crf_viterbi_accuracy: 0.9958 - val_loss: 22.0110 - val_crf_viterbi_accuracy: 0.9156\n",
            " - f1: 46.40\n",
            "              precision    recall  f1-score   support\n",
            "\n",
            "    ARTIFACT       0.23      0.20      0.21        71\n",
            "        DATE       0.76      0.71      0.73        97\n",
            "       EVENT       0.26      0.42      0.32        24\n",
            "    LOCATION       0.52      0.63      0.57       186\n",
            "       MONEY       1.00      0.50      0.67         2\n",
            "      NUMBER       0.57      0.51      0.54        76\n",
            "ORGANIZATION       0.37      0.36      0.36       126\n",
            "       OTHER       0.29      0.26      0.28        19\n",
            "     PERCENT       0.71      0.83      0.77         6\n",
            "      PERSON       0.41      0.20      0.27       116\n",
            "        TIME       0.00      0.00      0.00         3\n",
            "\n",
            "   micro avg       0.48      0.45      0.46       726\n",
            "   macro avg       0.46      0.42      0.43       726\n",
            "weighted avg       0.47      0.45      0.45       726\n",
            "\n",
            "f1_score improved from 0.463487 to 0.464034, saving model to best_model.h5\n",
            "Epoch 21/50\n",
            "2859/2859 [==============================] - 86s 30ms/step - loss: 21.3025 - crf_viterbi_accuracy: 0.9966 - val_loss: 22.0399 - val_crf_viterbi_accuracy: 0.9143\n",
            " - f1: 44.92\n",
            "              precision    recall  f1-score   support\n",
            "\n",
            "    ARTIFACT       0.25      0.14      0.18        71\n",
            "        DATE       0.81      0.70      0.75        97\n",
            "       EVENT       0.19      0.50      0.27        24\n",
            "    LOCATION       0.54      0.60      0.57       186\n",
            "       MONEY       0.50      0.50      0.50         2\n",
            "      NUMBER       0.55      0.54      0.54        76\n",
            "ORGANIZATION       0.36      0.30      0.33       126\n",
            "       OTHER       0.19      0.26      0.22        19\n",
            "     PERCENT       0.83      0.83      0.83         6\n",
            "      PERSON       0.36      0.19      0.25       116\n",
            "        TIME       0.00      0.00      0.00         3\n",
            "\n",
            "   micro avg       0.47      0.43      0.45       726\n",
            "   macro avg       0.42      0.42      0.40       726\n",
            "weighted avg       0.47      0.43      0.44       726\n",
            "\n",
            "f1_score did not improve from 0.464034\n",
            "Epoch 22/50\n",
            "2859/2859 [==============================] - 86s 30ms/step - loss: 21.3014 - crf_viterbi_accuracy: 0.9971 - val_loss: 22.0755 - val_crf_viterbi_accuracy: 0.9168\n",
            " - f1: 45.19\n",
            "              precision    recall  f1-score   support\n",
            "\n",
            "    ARTIFACT       0.14      0.07      0.09        71\n",
            "        DATE       0.79      0.71      0.75        97\n",
            "       EVENT       0.37      0.58      0.45        24\n",
            "    LOCATION       0.54      0.61      0.57       186\n",
            "       MONEY       0.50      0.50      0.50         2\n",
            "      NUMBER       0.53      0.46      0.49        76\n",
            "ORGANIZATION       0.43      0.29      0.34       126\n",
            "       OTHER       0.15      0.21      0.18        19\n",
            "     PERCENT       0.71      0.83      0.77         6\n",
            "      PERSON       0.32      0.20      0.25       116\n",
            "        TIME       0.00      0.00      0.00         3\n",
            "\n",
            "   micro avg       0.49      0.42      0.45       726\n",
            "   macro avg       0.41      0.41      0.40       726\n",
            "weighted avg       0.47      0.42      0.43       726\n",
            "\n",
            "f1_score did not improve from 0.464034\n",
            "Epoch 23/50\n",
            "2859/2859 [==============================] - 85s 30ms/step - loss: 21.3005 - crf_viterbi_accuracy: 0.9975 - val_loss: 22.0659 - val_crf_viterbi_accuracy: 0.9150\n",
            " - f1: 46.03\n",
            "              precision    recall  f1-score   support\n",
            "\n",
            "    ARTIFACT       0.32      0.18      0.23        71\n",
            "        DATE       0.84      0.72      0.78        97\n",
            "       EVENT       0.27      0.54      0.36        24\n",
            "    LOCATION       0.48      0.63      0.54       186\n",
            "       MONEY       1.00      0.50      0.67         2\n",
            "      NUMBER       0.56      0.50      0.53        76\n",
            "ORGANIZATION       0.41      0.33      0.36       126\n",
            "       OTHER       0.14      0.26      0.19        19\n",
            "     PERCENT       0.83      0.83      0.83         6\n",
            "      PERSON       0.39      0.19      0.25       116\n",
            "        TIME       0.00      0.00      0.00         3\n",
            "\n",
            "   micro avg       0.47      0.45      0.46       726\n",
            "   macro avg       0.48      0.43      0.43       726\n",
            "weighted avg       0.48      0.45      0.45       726\n",
            "\n",
            "f1_score did not improve from 0.464034\n",
            "Epoch 24/50\n",
            "2859/2859 [==============================] - 86s 30ms/step - loss: 21.2986 - crf_viterbi_accuracy: 0.9981 - val_loss: 22.1123 - val_crf_viterbi_accuracy: 0.9158\n",
            " - f1: 44.73\n",
            "              precision    recall  f1-score   support\n",
            "\n",
            "    ARTIFACT       0.23      0.11      0.15        71\n",
            "        DATE       0.79      0.69      0.74        97\n",
            "       EVENT       0.38      0.58      0.46        24\n",
            "    LOCATION       0.51      0.56      0.53       186\n",
            "       MONEY       0.00      0.00      0.00         2\n",
            "      NUMBER       0.54      0.50      0.52        76\n",
            "ORGANIZATION       0.50      0.29      0.36       126\n",
            "       OTHER       0.15      0.26      0.19        19\n",
            "     PERCENT       0.83      0.83      0.83         6\n",
            "      PERSON       0.31      0.20      0.24       116\n",
            "        TIME       0.00      0.00      0.00         3\n",
            "\n",
            "   micro avg       0.49      0.41      0.45       726\n",
            "   macro avg       0.39      0.37      0.37       726\n",
            "weighted avg       0.47      0.41      0.43       726\n",
            "\n",
            "f1_score did not improve from 0.464034\n",
            "Epoch 25/50\n",
            "2859/2859 [==============================] - 86s 30ms/step - loss: 21.2976 - crf_viterbi_accuracy: 0.9985 - val_loss: 22.0717 - val_crf_viterbi_accuracy: 0.9096\n",
            " - f1: 44.29\n",
            "              precision    recall  f1-score   support\n",
            "\n",
            "    ARTIFACT       0.24      0.15      0.19        71\n",
            "        DATE       0.76      0.73      0.75        97\n",
            "       EVENT       0.26      0.46      0.33        24\n",
            "    LOCATION       0.44      0.65      0.53       186\n",
            "       MONEY       0.00      0.00      0.00         2\n",
            "      NUMBER       0.53      0.51      0.52        76\n",
            "ORGANIZATION       0.32      0.33      0.32       126\n",
            "       OTHER       0.13      0.21      0.16        19\n",
            "     PERCENT       0.71      0.83      0.77         6\n",
            "      PERSON       0.43      0.22      0.29       116\n",
            "        TIME       0.00      0.00      0.00         3\n",
            "\n",
            "   micro avg       0.43      0.45      0.44       726\n",
            "   macro avg       0.35      0.37      0.35       726\n",
            "weighted avg       0.44      0.45      0.43       726\n",
            "\n",
            "f1_score did not improve from 0.464034\n",
            "Epoch 26/50\n",
            "2859/2859 [==============================] - 86s 30ms/step - loss: 21.2967 - crf_viterbi_accuracy: 0.9988 - val_loss: 22.1117 - val_crf_viterbi_accuracy: 0.9158\n",
            " - f1: 47.28\n",
            "              precision    recall  f1-score   support\n",
            "\n",
            "    ARTIFACT       0.25      0.21      0.23        71\n",
            "        DATE       0.73      0.74      0.74        97\n",
            "       EVENT       0.31      0.50      0.38        24\n",
            "    LOCATION       0.59      0.60      0.59       186\n",
            "       MONEY       1.00      0.50      0.67         2\n",
            "      NUMBER       0.59      0.49      0.53        76\n",
            "ORGANIZATION       0.38      0.36      0.37       126\n",
            "       OTHER       0.23      0.32      0.27        19\n",
            "     PERCENT       0.83      0.83      0.83         6\n",
            "      PERSON       0.40      0.18      0.25       116\n",
            "        TIME       0.00      0.00      0.00         3\n",
            "\n",
            "   micro avg       0.50      0.45      0.47       726\n",
            "   macro avg       0.48      0.43      0.44       726\n",
            "weighted avg       0.49      0.45      0.46       726\n",
            "\n",
            "f1_score improved from 0.464034 to 0.472806, saving model to best_model.h5\n",
            "Epoch 27/50\n",
            "2859/2859 [==============================] - 85s 30ms/step - loss: 21.2959 - crf_viterbi_accuracy: 0.9991 - val_loss: 22.1363 - val_crf_viterbi_accuracy: 0.9142\n",
            " - f1: 46.10\n",
            "              precision    recall  f1-score   support\n",
            "\n",
            "    ARTIFACT       0.28      0.17      0.21        71\n",
            "        DATE       0.80      0.74      0.77        97\n",
            "       EVENT       0.34      0.50      0.41        24\n",
            "    LOCATION       0.53      0.60      0.56       186\n",
            "       MONEY       0.00      0.00      0.00         2\n",
            "      NUMBER       0.55      0.49      0.52        76\n",
            "ORGANIZATION       0.36      0.34      0.35       126\n",
            "       OTHER       0.21      0.32      0.25        19\n",
            "     PERCENT       0.83      0.83      0.83         6\n",
            "      PERSON       0.40      0.18      0.25       116\n",
            "        TIME       0.00      0.00      0.00         3\n",
            "\n",
            "   micro avg       0.48      0.44      0.46       726\n",
            "   macro avg       0.39      0.38      0.38       726\n",
            "weighted avg       0.48      0.44      0.45       726\n",
            "\n",
            "f1_score did not improve from 0.472806\n",
            "Epoch 28/50\n",
            "2859/2859 [==============================] - 86s 30ms/step - loss: 21.2951 - crf_viterbi_accuracy: 0.9994 - val_loss: 22.1319 - val_crf_viterbi_accuracy: 0.9137\n",
            " - f1: 45.66\n",
            "              precision    recall  f1-score   support\n",
            "\n",
            "    ARTIFACT       0.21      0.18      0.20        71\n",
            "        DATE       0.73      0.72      0.73        97\n",
            "       EVENT       0.23      0.50      0.32        24\n",
            "    LOCATION       0.60      0.60      0.60       186\n",
            "       MONEY       1.00      0.50      0.67         2\n",
            "      NUMBER       0.58      0.49      0.53        76\n",
            "ORGANIZATION       0.37      0.33      0.35       126\n",
            "       OTHER       0.13      0.21      0.16        19\n",
            "     PERCENT       0.83      0.83      0.83         6\n",
            "      PERSON       0.42      0.19      0.26       116\n",
            "        TIME       0.00      0.00      0.00         3\n",
            "\n",
            "   micro avg       0.48      0.44      0.46       726\n",
            "   macro avg       0.46      0.41      0.42       726\n",
            "weighted avg       0.48      0.44      0.45       726\n",
            "\n",
            "f1_score did not improve from 0.472806\n",
            "Epoch 29/50\n",
            "2859/2859 [==============================] - 85s 30ms/step - loss: 21.2948 - crf_viterbi_accuracy: 0.9995 - val_loss: 22.1375 - val_crf_viterbi_accuracy: 0.9142\n",
            " - f1: 45.29\n",
            "              precision    recall  f1-score   support\n",
            "\n",
            "    ARTIFACT       0.24      0.17      0.20        71\n",
            "        DATE       0.78      0.73      0.76        97\n",
            "       EVENT       0.30      0.50      0.37        24\n",
            "    LOCATION       0.50      0.60      0.55       186\n",
            "       MONEY       0.00      0.00      0.00         2\n",
            "      NUMBER       0.50      0.50      0.50        76\n",
            "ORGANIZATION       0.42      0.32      0.36       126\n",
            "       OTHER       0.16      0.32      0.21        19\n",
            "     PERCENT       0.71      0.83      0.77         6\n",
            "      PERSON       0.37      0.21      0.27       116\n",
            "        TIME       0.00      0.00      0.00         3\n",
            "\n",
            "   micro avg       0.47      0.44      0.45       726\n",
            "   macro avg       0.36      0.38      0.36       726\n",
            "weighted avg       0.46      0.44      0.44       726\n",
            "\n",
            "f1_score did not improve from 0.472806\n",
            "Epoch 30/50\n",
            "2859/2859 [==============================] - 85s 30ms/step - loss: 21.2943 - crf_viterbi_accuracy: 0.9997 - val_loss: 22.1310 - val_crf_viterbi_accuracy: 0.9110\n",
            " - f1: 44.31\n",
            "              precision    recall  f1-score   support\n",
            "\n",
            "    ARTIFACT       0.24      0.15      0.19        71\n",
            "        DATE       0.76      0.72      0.74        97\n",
            "       EVENT       0.29      0.50      0.36        24\n",
            "    LOCATION       0.43      0.64      0.51       186\n",
            "       MONEY       0.00      0.00      0.00         2\n",
            "      NUMBER       0.51      0.50      0.51        76\n",
            "ORGANIZATION       0.39      0.33      0.35       126\n",
            "       OTHER       0.18      0.32      0.23        19\n",
            "     PERCENT       0.71      0.83      0.77         6\n",
            "      PERSON       0.35      0.22      0.27       116\n",
            "        TIME       0.00      0.00      0.00         3\n",
            "\n",
            "   micro avg       0.44      0.45      0.44       726\n",
            "   macro avg       0.35      0.38      0.36       726\n",
            "weighted avg       0.43      0.45      0.43       726\n",
            "\n",
            "f1_score did not improve from 0.472806\n",
            "Epoch 31/50\n",
            "2859/2859 [==============================] - 86s 30ms/step - loss: 21.2941 - crf_viterbi_accuracy: 0.9997 - val_loss: 22.1472 - val_crf_viterbi_accuracy: 0.9103\n",
            " - f1: 44.68\n",
            "              precision    recall  f1-score   support\n",
            "\n",
            "    ARTIFACT       0.20      0.13      0.16        71\n",
            "        DATE       0.76      0.72      0.74        97\n",
            "       EVENT       0.33      0.54      0.41        24\n",
            "    LOCATION       0.43      0.66      0.52       186\n",
            "       MONEY       0.00      0.00      0.00         2\n",
            "      NUMBER       0.51      0.51      0.51        76\n",
            "ORGANIZATION       0.40      0.33      0.36       126\n",
            "       OTHER       0.13      0.32      0.18        19\n",
            "     PERCENT       0.71      0.83      0.77         6\n",
            "      PERSON       0.39      0.23      0.29       116\n",
            "        TIME       0.00      0.00      0.00         3\n",
            "\n",
            "   micro avg       0.43      0.46      0.45       726\n",
            "   macro avg       0.35      0.39      0.36       726\n",
            "weighted avg       0.44      0.46      0.44       726\n",
            "\n",
            "f1_score did not improve from 0.472806\n",
            "Epoch 32/50\n",
            "2859/2859 [==============================] - 86s 30ms/step - loss: 21.2939 - crf_viterbi_accuracy: 0.9998 - val_loss: 22.1890 - val_crf_viterbi_accuracy: 0.9164\n",
            " - f1: 46.46\n",
            "              precision    recall  f1-score   support\n",
            "\n",
            "    ARTIFACT       0.22      0.15      0.18        71\n",
            "        DATE       0.75      0.71      0.73        97\n",
            "       EVENT       0.30      0.50      0.37        24\n",
            "    LOCATION       0.54      0.62      0.58       186\n",
            "       MONEY       0.00      0.00      0.00         2\n",
            "      NUMBER       0.55      0.53      0.54        76\n",
            "ORGANIZATION       0.42      0.32      0.36       126\n",
            "       OTHER       0.26      0.32      0.29        19\n",
            "     PERCENT       0.71      0.83      0.77         6\n",
            "      PERSON       0.38      0.20      0.26       116\n",
            "        TIME       0.00      0.00      0.00         3\n",
            "\n",
            "   micro avg       0.49      0.44      0.46       726\n",
            "   macro avg       0.37      0.38      0.37       726\n",
            "weighted avg       0.47      0.44      0.45       726\n",
            "\n",
            "f1_score did not improve from 0.472806\n",
            "Epoch 33/50\n",
            "2859/2859 [==============================] - 86s 30ms/step - loss: 21.2937 - crf_viterbi_accuracy: 0.9997 - val_loss: 22.1647 - val_crf_viterbi_accuracy: 0.9068\n",
            " - f1: 43.67\n",
            "              precision    recall  f1-score   support\n",
            "\n",
            "    ARTIFACT       0.20      0.17      0.18        71\n",
            "        DATE       0.75      0.74      0.75        97\n",
            "       EVENT       0.18      0.46      0.26        24\n",
            "    LOCATION       0.48      0.66      0.56       186\n",
            "       MONEY       0.00      0.00      0.00         2\n",
            "      NUMBER       0.46      0.49      0.47        76\n",
            "ORGANIZATION       0.44      0.30      0.36       126\n",
            "       OTHER       0.10      0.26      0.14        19\n",
            "     PERCENT       0.71      0.83      0.77         6\n",
            "      PERSON       0.30      0.24      0.27       116\n",
            "        TIME       0.00      0.00      0.00         3\n",
            "\n",
            "   micro avg       0.42      0.46      0.44       726\n",
            "   macro avg       0.33      0.38      0.34       726\n",
            "weighted avg       0.43      0.46      0.43       726\n",
            "\n",
            "f1_score did not improve from 0.472806\n",
            "Epoch 34/50\n",
            "2859/2859 [==============================] - 88s 31ms/step - loss: 21.2937 - crf_viterbi_accuracy: 0.9997 - val_loss: 22.2106 - val_crf_viterbi_accuracy: 0.9145\n",
            " - f1: 44.92\n",
            "              precision    recall  f1-score   support\n",
            "\n",
            "    ARTIFACT       0.20      0.17      0.18        71\n",
            "        DATE       0.74      0.73      0.74        97\n",
            "       EVENT       0.31      0.50      0.38        24\n",
            "    LOCATION       0.51      0.58      0.54       186\n",
            "       MONEY       0.00      0.00      0.00         2\n",
            "      NUMBER       0.50      0.47      0.49        76\n",
            "ORGANIZATION       0.43      0.32      0.36       126\n",
            "       OTHER       0.19      0.32      0.24        19\n",
            "     PERCENT       0.71      0.83      0.77         6\n",
            "      PERSON       0.41      0.21      0.27       116\n",
            "        TIME       0.00      0.00      0.00         3\n",
            "\n",
            "   micro avg       0.47      0.43      0.45       726\n",
            "   macro avg       0.36      0.38      0.36       726\n",
            "weighted avg       0.46      0.43      0.44       726\n",
            "\n",
            "f1_score did not improve from 0.472806\n",
            "Epoch 35/50\n",
            "2859/2859 [==============================] - 88s 31ms/step - loss: 21.2936 - crf_viterbi_accuracy: 0.9997 - val_loss: 22.2021 - val_crf_viterbi_accuracy: 0.9140\n",
            " - f1: 45.93\n",
            "              precision    recall  f1-score   support\n",
            "\n",
            "    ARTIFACT       0.19      0.15      0.17        71\n",
            "        DATE       0.76      0.73      0.75        97\n",
            "       EVENT       0.30      0.50      0.37        24\n",
            "    LOCATION       0.51      0.62      0.56       186\n",
            "       MONEY       0.50      0.50      0.50         2\n",
            "      NUMBER       0.57      0.50      0.53        76\n",
            "ORGANIZATION       0.37      0.35      0.36       126\n",
            "       OTHER       0.21      0.32      0.26        19\n",
            "     PERCENT       0.83      0.83      0.83         6\n",
            "      PERSON       0.39      0.20      0.26       116\n",
            "        TIME       0.00      0.00      0.00         3\n",
            "\n",
            "   micro avg       0.47      0.45      0.46       726\n",
            "   macro avg       0.42      0.43      0.42       726\n",
            "weighted avg       0.46      0.45      0.45       726\n",
            "\n",
            "f1_score did not improve from 0.472806\n",
            "Epoch 36/50\n",
            "2859/2859 [==============================] - 88s 31ms/step - loss: 21.2934 - crf_viterbi_accuracy: 0.9998 - val_loss: 22.2129 - val_crf_viterbi_accuracy: 0.9101\n",
            " - f1: 44.03\n",
            "              precision    recall  f1-score   support\n",
            "\n",
            "    ARTIFACT       0.20      0.18      0.19        71\n",
            "        DATE       0.75      0.73      0.74        97\n",
            "       EVENT       0.26      0.46      0.33        24\n",
            "    LOCATION       0.49      0.62      0.55       186\n",
            "       MONEY       0.00      0.00      0.00         2\n",
            "      NUMBER       0.53      0.47      0.50        76\n",
            "ORGANIZATION       0.39      0.32      0.35       126\n",
            "       OTHER       0.14      0.32      0.19        19\n",
            "     PERCENT       0.71      0.83      0.77         6\n",
            "      PERSON       0.35      0.20      0.25       116\n",
            "        TIME       0.00      0.00      0.00         3\n",
            "\n",
            "   micro avg       0.44      0.44      0.44       726\n",
            "   macro avg       0.35      0.38      0.35       726\n",
            "weighted avg       0.44      0.44      0.43       726\n",
            "\n",
            "f1_score did not improve from 0.472806\n",
            "Epoch 37/50\n",
            "2859/2859 [==============================] - 89s 31ms/step - loss: 21.2932 - crf_viterbi_accuracy: 0.9998 - val_loss: 22.2439 - val_crf_viterbi_accuracy: 0.9171\n",
            " - f1: 46.50\n",
            "              precision    recall  f1-score   support\n",
            "\n",
            "    ARTIFACT       0.20      0.15      0.18        71\n",
            "        DATE       0.74      0.72      0.73        97\n",
            "       EVENT       0.35      0.50      0.41        24\n",
            "    LOCATION       0.56      0.61      0.58       186\n",
            "       MONEY       0.00      0.00      0.00         2\n",
            "      NUMBER       0.53      0.51      0.52        76\n",
            "ORGANIZATION       0.42      0.33      0.37       126\n",
            "       OTHER       0.13      0.26      0.18        19\n",
            "     PERCENT       0.83      0.83      0.83         6\n",
            "      PERSON       0.44      0.22      0.29       116\n",
            "        TIME       0.00      0.00      0.00         3\n",
            "\n",
            "   micro avg       0.49      0.44      0.46       726\n",
            "   macro avg       0.38      0.38      0.37       726\n",
            "weighted avg       0.48      0.44      0.46       726\n",
            "\n",
            "f1_score did not improve from 0.472806\n",
            "Epoch 38/50\n",
            "2859/2859 [==============================] - 90s 31ms/step - loss: 21.2930 - crf_viterbi_accuracy: 0.9999 - val_loss: 22.2331 - val_crf_viterbi_accuracy: 0.9144\n",
            " - f1: 45.42\n",
            "              precision    recall  f1-score   support\n",
            "\n",
            "    ARTIFACT       0.17      0.14      0.15        71\n",
            "        DATE       0.75      0.73      0.74        97\n",
            "       EVENT       0.36      0.50      0.42        24\n",
            "    LOCATION       0.50      0.62      0.56       186\n",
            "       MONEY       0.00      0.00      0.00         2\n",
            "      NUMBER       0.53      0.50      0.51        76\n",
            "ORGANIZATION       0.39      0.33      0.36       126\n",
            "       OTHER       0.15      0.32      0.20        19\n",
            "     PERCENT       0.71      0.83      0.77         6\n",
            "      PERSON       0.44      0.22      0.29       116\n",
            "        TIME       0.00      0.00      0.00         3\n",
            "\n",
            "   micro avg       0.46      0.45      0.45       726\n",
            "   macro avg       0.36      0.38      0.36       726\n",
            "weighted avg       0.46      0.45      0.44       726\n",
            "\n",
            "f1_score did not improve from 0.472806\n",
            "Epoch 39/50\n",
            "2859/2859 [==============================] - 90s 32ms/step - loss: 21.2929 - crf_viterbi_accuracy: 1.0000 - val_loss: 22.2338 - val_crf_viterbi_accuracy: 0.9125\n",
            " - f1: 44.54\n",
            "              precision    recall  f1-score   support\n",
            "\n",
            "    ARTIFACT       0.19      0.15      0.17        71\n",
            "        DATE       0.76      0.73      0.74        97\n",
            "       EVENT       0.24      0.46      0.32        24\n",
            "    LOCATION       0.48      0.63      0.54       186\n",
            "       MONEY       0.00      0.00      0.00         2\n",
            "      NUMBER       0.50      0.51      0.51        76\n",
            "ORGANIZATION       0.39      0.33      0.36       126\n",
            "       OTHER       0.17      0.32      0.22        19\n",
            "     PERCENT       0.62      0.83      0.71         6\n",
            "      PERSON       0.38      0.21      0.27       116\n",
            "        TIME       0.00      0.00      0.00         3\n",
            "\n",
            "   micro avg       0.44      0.45      0.45       726\n",
            "   macro avg       0.34      0.38      0.35       726\n",
            "weighted avg       0.44      0.45      0.44       726\n",
            "\n",
            "f1_score did not improve from 0.472806\n",
            "Epoch 40/50\n",
            "2859/2859 [==============================] - 90s 31ms/step - loss: 21.2929 - crf_viterbi_accuracy: 0.9999 - val_loss: 22.2554 - val_crf_viterbi_accuracy: 0.9138\n",
            " - f1: 45.10\n",
            "              precision    recall  f1-score   support\n",
            "\n",
            "    ARTIFACT       0.19      0.15      0.17        71\n",
            "        DATE       0.75      0.73      0.74        97\n",
            "       EVENT       0.29      0.50      0.36        24\n",
            "    LOCATION       0.52      0.61      0.56       186\n",
            "       MONEY       0.00      0.00      0.00         2\n",
            "      NUMBER       0.54      0.50      0.52        76\n",
            "ORGANIZATION       0.38      0.32      0.34       126\n",
            "       OTHER       0.15      0.26      0.19        19\n",
            "     PERCENT       0.62      0.83      0.71         6\n",
            "      PERSON       0.42      0.22      0.28       116\n",
            "        TIME       0.00      0.00      0.00         3\n",
            "\n",
            "   micro avg       0.46      0.44      0.45       726\n",
            "   macro avg       0.35      0.37      0.35       726\n",
            "weighted avg       0.46      0.44      0.44       726\n",
            "\n",
            "f1_score did not improve from 0.472806\n",
            "Epoch 41/50\n",
            "2859/2859 [==============================] - 90s 31ms/step - loss: 21.2929 - crf_viterbi_accuracy: 1.0000 - val_loss: 22.2799 - val_crf_viterbi_accuracy: 0.9141\n",
            " - f1: 44.63\n",
            "              precision    recall  f1-score   support\n",
            "\n",
            "    ARTIFACT       0.19      0.14      0.16        71\n",
            "        DATE       0.75      0.72      0.74        97\n",
            "       EVENT       0.33      0.54      0.41        24\n",
            "    LOCATION       0.50      0.60      0.54       186\n",
            "       MONEY       0.00      0.00      0.00         2\n",
            "      NUMBER       0.51      0.47      0.49        76\n",
            "ORGANIZATION       0.37      0.33      0.35       126\n",
            "       OTHER       0.18      0.32      0.23        19\n",
            "     PERCENT       0.71      0.83      0.77         6\n",
            "      PERSON       0.43      0.21      0.28       116\n",
            "        TIME       0.00      0.00      0.00         3\n",
            "\n",
            "   micro avg       0.46      0.44      0.45       726\n",
            "   macro avg       0.36      0.38      0.36       726\n",
            "weighted avg       0.45      0.44      0.44       726\n",
            "\n",
            "f1_score did not improve from 0.472806\n",
            "Epoch 42/50\n",
            "2859/2859 [==============================] - 90s 31ms/step - loss: 21.2929 - crf_viterbi_accuracy: 1.0000 - val_loss: 22.2517 - val_crf_viterbi_accuracy: 0.9089\n",
            " - f1: 44.16\n",
            "              precision    recall  f1-score   support\n",
            "\n",
            "    ARTIFACT       0.16      0.15      0.16        71\n",
            "        DATE       0.77      0.74      0.76        97\n",
            "       EVENT       0.21      0.46      0.29        24\n",
            "    LOCATION       0.48      0.65      0.55       186\n",
            "       MONEY       0.00      0.00      0.00         2\n",
            "      NUMBER       0.52      0.50      0.51        76\n",
            "ORGANIZATION       0.36      0.35      0.35       126\n",
            "       OTHER       0.11      0.26      0.15        19\n",
            "     PERCENT       0.62      0.83      0.71         6\n",
            "      PERSON       0.39      0.22      0.29       116\n",
            "        TIME       0.00      0.00      0.00         3\n",
            "\n",
            "   micro avg       0.43      0.46      0.44       726\n",
            "   macro avg       0.33      0.38      0.34       726\n",
            "weighted avg       0.44      0.46      0.44       726\n",
            "\n",
            "f1_score did not improve from 0.472806\n",
            "Epoch 43/50\n",
            "2859/2859 [==============================] - 90s 31ms/step - loss: 21.2929 - crf_viterbi_accuracy: 0.9999 - val_loss: 22.2726 - val_crf_viterbi_accuracy: 0.9148\n",
            " - f1: 46.69\n",
            "              precision    recall  f1-score   support\n",
            "\n",
            "    ARTIFACT       0.22      0.18      0.20        71\n",
            "        DATE       0.74      0.72      0.73        97\n",
            "       EVENT       0.28      0.50      0.36        24\n",
            "    LOCATION       0.58      0.62      0.60       186\n",
            "       MONEY       0.00      0.00      0.00         2\n",
            "      NUMBER       0.51      0.50      0.50        76\n",
            "ORGANIZATION       0.38      0.37      0.38       126\n",
            "       OTHER       0.15      0.26      0.19        19\n",
            "     PERCENT       0.71      0.83      0.77         6\n",
            "      PERSON       0.45      0.22      0.30       116\n",
            "        TIME       0.00      0.00      0.00         3\n",
            "\n",
            "   micro avg       0.48      0.46      0.47       726\n",
            "   macro avg       0.37      0.38      0.37       726\n",
            "weighted avg       0.48      0.46      0.46       726\n",
            "\n",
            "f1_score did not improve from 0.472806\n",
            "Epoch 44/50\n",
            "2859/2859 [==============================] - 90s 32ms/step - loss: 21.2929 - crf_viterbi_accuracy: 0.9999 - val_loss: 22.2534 - val_crf_viterbi_accuracy: 0.9029\n",
            " - f1: 41.73\n",
            "              precision    recall  f1-score   support\n",
            "\n",
            "    ARTIFACT       0.16      0.15      0.16        71\n",
            "        DATE       0.79      0.73      0.76        97\n",
            "       EVENT       0.28      0.46      0.35        24\n",
            "    LOCATION       0.35      0.65      0.45       186\n",
            "       MONEY       0.00      0.00      0.00         2\n",
            "      NUMBER       0.54      0.50      0.52        76\n",
            "ORGANIZATION       0.34      0.37      0.35       126\n",
            "       OTHER       0.11      0.26      0.16        19\n",
            "     PERCENT       0.71      0.83      0.77         6\n",
            "      PERSON       0.37      0.22      0.28       116\n",
            "        TIME       0.00      0.00      0.00         3\n",
            "\n",
            "   micro avg       0.38      0.46      0.42       726\n",
            "   macro avg       0.33      0.38      0.34       726\n",
            "weighted avg       0.40      0.46      0.42       726\n",
            "\n",
            "f1_score did not improve from 0.472806\n",
            "Epoch 45/50\n",
            "2859/2859 [==============================] - 89s 31ms/step - loss: 21.2929 - crf_viterbi_accuracy: 1.0000 - val_loss: 22.3019 - val_crf_viterbi_accuracy: 0.9141\n",
            " - f1: 45.16\n",
            "              precision    recall  f1-score   support\n",
            "\n",
            "    ARTIFACT       0.18      0.14      0.16        71\n",
            "        DATE       0.76      0.73      0.74        97\n",
            "       EVENT       0.42      0.54      0.47        24\n",
            "    LOCATION       0.52      0.62      0.57       186\n",
            "       MONEY       0.00      0.00      0.00         2\n",
            "      NUMBER       0.52      0.49      0.50        76\n",
            "ORGANIZATION       0.36      0.32      0.34       126\n",
            "       OTHER       0.12      0.26      0.16        19\n",
            "     PERCENT       0.62      0.83      0.71         6\n",
            "      PERSON       0.40      0.22      0.28       116\n",
            "        TIME       0.00      0.00      0.00         3\n",
            "\n",
            "   micro avg       0.46      0.44      0.45       726\n",
            "   macro avg       0.35      0.38      0.36       726\n",
            "weighted avg       0.46      0.44      0.44       726\n",
            "\n",
            "f1_score did not improve from 0.472806\n",
            "Epoch 46/50\n",
            "2859/2859 [==============================] - 89s 31ms/step - loss: 21.2940 - crf_viterbi_accuracy: 0.9995 - val_loss: 22.3200 - val_crf_viterbi_accuracy: 0.9126\n",
            " - f1: 44.35\n",
            "              precision    recall  f1-score   support\n",
            "\n",
            "    ARTIFACT       0.21      0.15      0.18        71\n",
            "        DATE       0.73      0.74      0.73        97\n",
            "       EVENT       0.50      0.46      0.48        24\n",
            "    LOCATION       0.52      0.59      0.55       186\n",
            "       MONEY       0.00      0.00      0.00         2\n",
            "      NUMBER       0.51      0.53      0.52        76\n",
            "ORGANIZATION       0.32      0.29      0.30       126\n",
            "       OTHER       0.11      0.26      0.16        19\n",
            "     PERCENT       0.71      0.83      0.77         6\n",
            "      PERSON       0.43      0.20      0.27       116\n",
            "        TIME       0.00      0.00      0.00         3\n",
            "\n",
            "   micro avg       0.46      0.43      0.44       726\n",
            "   macro avg       0.37      0.37      0.36       726\n",
            "weighted avg       0.45      0.43      0.43       726\n",
            "\n",
            "f1_score did not improve from 0.472806\n",
            "Epoch 47/50\n",
            "2859/2859 [==============================] - 88s 31ms/step - loss: 21.3065 - crf_viterbi_accuracy: 0.9934 - val_loss: 22.1742 - val_crf_viterbi_accuracy: 0.9156\n",
            " - f1: 45.71\n",
            "              precision    recall  f1-score   support\n",
            "\n",
            "    ARTIFACT       0.22      0.11      0.15        71\n",
            "        DATE       0.80      0.74      0.77        97\n",
            "       EVENT       0.30      0.38      0.33        24\n",
            "    LOCATION       0.56      0.63      0.60       186\n",
            "       MONEY       0.00      0.00      0.00         2\n",
            "      NUMBER       0.49      0.53      0.51        76\n",
            "ORGANIZATION       0.34      0.36      0.35       126\n",
            "       OTHER       0.10      0.16      0.12        19\n",
            "     PERCENT       0.62      0.83      0.71         6\n",
            "      PERSON       0.37      0.17      0.24       116\n",
            "        TIME       0.00      0.00      0.00         3\n",
            "\n",
            "   micro avg       0.47      0.44      0.46       726\n",
            "   macro avg       0.35      0.36      0.34       726\n",
            "weighted avg       0.46      0.44      0.44       726\n",
            "\n",
            "f1_score did not improve from 0.472806\n",
            "Epoch 48/50\n",
            "2859/2859 [==============================] - 87s 31ms/step - loss: 21.3084 - crf_viterbi_accuracy: 0.9921 - val_loss: 22.1142 - val_crf_viterbi_accuracy: 0.9138\n",
            " - f1: 45.88\n",
            "              precision    recall  f1-score   support\n",
            "\n",
            "    ARTIFACT       0.20      0.18      0.19        71\n",
            "        DATE       0.87      0.76      0.81        97\n",
            "       EVENT       0.20      0.54      0.30        24\n",
            "    LOCATION       0.53      0.62      0.57       186\n",
            "       MONEY       0.00      0.00      0.00         2\n",
            "      NUMBER       0.56      0.59      0.57        76\n",
            "ORGANIZATION       0.41      0.32      0.36       126\n",
            "       OTHER       0.13      0.37      0.20        19\n",
            "     PERCENT       0.44      0.67      0.53         6\n",
            "      PERSON       0.41      0.20      0.27       116\n",
            "        TIME       0.00      0.00      0.00         3\n",
            "\n",
            "   micro avg       0.46      0.46      0.46       726\n",
            "   macro avg       0.34      0.39      0.35       726\n",
            "weighted avg       0.48      0.46      0.46       726\n",
            "\n",
            "f1_score did not improve from 0.472806\n",
            "Epoch 49/50\n",
            "2859/2859 [==============================] - 88s 31ms/step - loss: 21.3002 - crf_viterbi_accuracy: 0.9968 - val_loss: 22.0929 - val_crf_viterbi_accuracy: 0.9174\n",
            " - f1: 48.62\n",
            "              precision    recall  f1-score   support\n",
            "\n",
            "    ARTIFACT       0.22      0.23      0.22        71\n",
            "        DATE       0.84      0.74      0.79        97\n",
            "       EVENT       0.25      0.46      0.32        24\n",
            "    LOCATION       0.61      0.64      0.62       186\n",
            "       MONEY       0.33      0.50      0.40         2\n",
            "      NUMBER       0.63      0.57      0.60        76\n",
            "ORGANIZATION       0.35      0.37      0.36       126\n",
            "       OTHER       0.23      0.32      0.27        19\n",
            "     PERCENT       0.71      0.83      0.77         6\n",
            "      PERSON       0.46      0.21      0.29       116\n",
            "        TIME       0.00      0.00      0.00         3\n",
            "\n",
            "   micro avg       0.50      0.47      0.49       726\n",
            "   macro avg       0.42      0.44      0.42       726\n",
            "weighted avg       0.51      0.47      0.48       726\n",
            "\n",
            "f1_score improved from 0.472806 to 0.486219, saving model to best_model.h5\n",
            "Epoch 50/50\n",
            "2859/2859 [==============================] - 88s 31ms/step - loss: 21.2945 - crf_viterbi_accuracy: 0.9994 - val_loss: 22.1663 - val_crf_viterbi_accuracy: 0.9222\n",
            " - f1: 49.37\n",
            "              precision    recall  f1-score   support\n",
            "\n",
            "    ARTIFACT       0.28      0.17      0.21        71\n",
            "        DATE       0.83      0.74      0.78        97\n",
            "       EVENT       0.48      0.50      0.49        24\n",
            "    LOCATION       0.57      0.64      0.61       186\n",
            "       MONEY       0.33      0.50      0.40         2\n",
            "      NUMBER       0.57      0.51      0.54        76\n",
            "ORGANIZATION       0.46      0.35      0.40       126\n",
            "       OTHER       0.12      0.21      0.15        19\n",
            "     PERCENT       0.71      0.83      0.77         6\n",
            "      PERSON       0.44      0.22      0.30       116\n",
            "        TIME       0.00      0.00      0.00         3\n",
            "\n",
            "   micro avg       0.53      0.46      0.49       726\n",
            "   macro avg       0.44      0.43      0.42       726\n",
            "weighted avg       0.52      0.46      0.48       726\n",
            "\n",
            "f1_score improved from 0.486219 to 0.493718, saving model to best_model.h5\n"
          ],
          "name": "stdout"
        }
      ]
    },
    {
      "cell_type": "markdown",
      "metadata": {
        "id": "OzW5BfVs1hVL"
      },
      "source": [
        "**accyracy와 ecpoch 그래프**\n",
        "\n"
      ]
    },
    {
      "cell_type": "code",
      "metadata": {
        "colab": {
          "base_uri": "https://localhost:8080/",
          "height": 591
        },
        "id": "WCxLmN3J0tre",
        "outputId": "56e49ab1-5b93-4cc8-da07-bb1962550d02"
      },
      "source": [
        "# list all data in history\n",
        "print(history.history.keys())\n",
        "# summarize history for accuracy\n",
        "plt.plot(history.history['crf_viterbi_accuracy'])\n",
        "plt.plot(history.history['val_crf_viterbi_accuracy'])\n",
        "plt.title('model accuracy')\n",
        "plt.ylabel('accuracy')\n",
        "plt.xlabel('epoch')\n",
        "plt.legend(['train', 'test'], loc='upper left')\n",
        "plt.show()\n",
        "# summarize history for loss\n",
        "plt.plot(history.history['loss'])\n",
        "plt.plot(history.history['val_loss'])\n",
        "plt.title('model loss')\n",
        "plt.ylabel('loss')\n",
        "plt.xlabel('epoch')\n",
        "plt.legend(['train', 'test'], loc='upper left')\n",
        "plt.show()"
      ],
      "execution_count": 35,
      "outputs": [
        {
          "output_type": "stream",
          "text": [
            "dict_keys(['val_loss', 'val_crf_viterbi_accuracy', 'loss', 'crf_viterbi_accuracy'])\n"
          ],
          "name": "stdout"
        },
        {
          "output_type": "display_data",
          "data": {
            "image/png": "[encoded data removed]",
            "text/plain": [
              "<Figure size 432x288 with 1 Axes>"
            ]
          },
          "metadata": {
            "tags": [],
            "needs_background": "light"
          }
        },
        {
          "output_type": "display_data",
          "data": {
            "image/png": "[encoded data removed]",
            "text/plain": [
              "<Figure size 432x288 with 1 Axes>"
            ]
          },
          "metadata": {
            "tags": [],
            "needs_background": "light"
          }
        }
      ]
    },
    {
      "cell_type": "code",
      "metadata": {
        "id": "OqNTiuFIXDRl"
      },
      "source": [
        "bilstm_crf_model = load_model('best_model.h5', custom_objects={'CRF':CRF,\n",
        "                                                  'crf_loss':crf_loss,\n",
        "                                                  'crf_viterbi_accuracy':crf_viterbi_accuracy})"
      ],
      "execution_count": 36,
      "outputs": []
    },
    {
      "cell_type": "code",
      "metadata": {
        "colab": {
          "base_uri": "https://localhost:8080/"
        },
        "id": "P_j_dM0iXsaX",
        "outputId": "8b231d82-cf18-4bc2-9e88-54d4f1ad39c0"
      },
      "source": [
        "i=13 # 확인하고 싶은 테스트용 샘플의 인덱스.\n",
        "y_predicted = bilstm_crf_model.predict(np.array([X_test[i]])) # 입력한 테스트용 샘플에 대해서 예측 y를 리턴\n",
        "y_predicted = np.argmax(y_predicted, axis=-1) # 원-핫 인코딩을 다시 정수 인코딩으로 변경함.\n",
        "true = np.argmax(y_test[i], -1) # 원-핫 인코딩을 다시 정수 인코딩으로 변경함.\n",
        "\n",
        "print(\"{:15}|{:5}|{}\".format(\"단어\", \"실제값\", \"예측값\"))\n",
        "print(35 * \"-\")\n",
        "\n",
        "for w, t, pred in zip(X_test[i], true, y_predicted[0]):\n",
        "    if w != 0: # PAD값은 제외함.\n",
        "        print(\"{:17}: {:7} {}\".format(index_to_word[w], index_to_ner[t], index_to_ner[pred]))"
      ],
      "execution_count": 37,
      "outputs": [
        {
          "output_type": "stream",
          "text": [
            "단어             |실제값  |예측값\n",
            "-----------------------------------\n",
            "トーナメント           : O       O\n",
            "など               : O       O\n",
            "で                : O       O\n",
            "引き分け             : O       O\n",
            "と                : O       O\n",
            "なっ               : O       O\n",
            "た                : O       O\n",
            "場合               : O       O\n",
            "は                : O       O\n",
            "、                : O       O\n",
            "引き分け             : O       O\n",
            "を                : O       O\n",
            "つけ               : O       O\n",
            "た                : O       O\n",
            "ジャッジ             : O       O\n",
            "が                : O       O\n",
            "最終               : O       O\n",
            "判断               : O       O\n",
            "を                : O       O\n",
            "下し               : O       O\n",
            "て                : O       O\n",
            "決着               : O       O\n",
            "を                : O       O\n",
            "付ける              : O       O\n",
            "こと               : O       O\n",
            "に                : O       O\n",
            "なる               : O       O\n",
            "が                : O       O\n",
            "、                : O       O\n",
            "大会               : O       O\n",
            "によって             : O       O\n",
            "は                : O       O\n",
            "延長               : O       O\n",
            "戦                : O       O\n",
            "を                : O       O\n",
            "行う               : O       O\n",
            "場合               : O       O\n",
            "も                : O       O\n",
            "ある               : O       O\n"
          ],
          "name": "stdout"
        }
      ]
    },
    {
      "cell_type": "markdown",
      "metadata": {
        "id": "Hul-Hnv7Xvul"
      },
      "source": [
        "# F1 score 구하기\n",
        "\n",
        "앞서 구현한 모델에 대해서 f1-score를 적용하자. 모델의 return값이 숫자로 구성되어있기때문에 이를 먼저 태깅이 나열되어있는 리스트로 치환을 해야한다. 이 작업을 위해서 sequence_to_tag함수를 사용한다."
      ]
    },
    {
      "cell_type": "code",
      "metadata": {
        "id": "GvxwCtzkbpdE"
      },
      "source": [
        "f1score = F1score(use_char=False)\n",
        "\n",
        "y_predicted = bilstm_crf_model.predict([X_test])\n",
        "pred_tags = f1score.sequences_to_tags(y_predicted)\n",
        "test_tags = f1score.sequences_to_tags(y_test)"
      ],
      "execution_count": 38,
      "outputs": []
    },
    {
      "cell_type": "code",
      "metadata": {
        "colab": {
          "base_uri": "https://localhost:8080/"
        },
        "id": "KnWL5vOKcC3a",
        "outputId": "868ba36b-ead5-47c2-d885-47266be735f7"
      },
      "source": [
        "print(classification_report(test_tags, pred_tags))"
      ],
      "execution_count": 39,
      "outputs": [
        {
          "output_type": "stream",
          "text": [
            "              precision    recall  f1-score   support\n",
            "\n",
            "    ARTIFACT       0.29      0.18      0.22       170\n",
            "        DATE       0.92      0.82      0.87       306\n",
            "       EVENT       0.33      0.37      0.35        41\n",
            "    LOCATION       0.49      0.54      0.51       598\n",
            "       MONEY       0.38      0.43      0.41        23\n",
            "      NUMBER       0.63      0.61      0.62       213\n",
            "ORGANIZATION       0.47      0.38      0.42       348\n",
            "       OTHER       0.36      0.50      0.42        84\n",
            "     PERCENT       0.59      0.54      0.56        41\n",
            "      PERSON       0.38      0.15      0.21       300\n",
            "        TIME       0.20      0.20      0.20         5\n",
            "\n",
            "   micro avg       0.53      0.47      0.50      2129\n",
            "   macro avg       0.46      0.43      0.44      2129\n",
            "weighted avg       0.52      0.47      0.49      2129\n",
            "\n"
          ],
          "name": "stdout"
        }
      ]
    },
    {
      "cell_type": "code",
      "metadata": {
        "colab": {
          "base_uri": "https://localhost:8080/"
        },
        "id": "gJijAtZscOLM",
        "outputId": "a4c3e17e-733b-4a36-e436-7673ef1c2985"
      },
      "source": [
        "print(\"F1-score: {:.1%}\".format(f1_score(test_tags, pred_tags)))"
      ],
      "execution_count": 40,
      "outputs": [
        {
          "output_type": "stream",
          "text": [
            "F1-score: 50.0%\n"
          ],
          "name": "stdout"
        }
      ]
    }
  ]
}